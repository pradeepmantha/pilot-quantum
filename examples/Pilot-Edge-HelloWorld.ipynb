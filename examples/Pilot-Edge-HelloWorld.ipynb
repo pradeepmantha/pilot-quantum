{
 "cells": [
  {
   "cell_type": "markdown",
   "metadata": {},
   "source": [
    "# Getting Started with Pilot-Streaming and Edge on TACC\n",
    "\n",
    "In the first step we need to import all required packages and modules into the Python Path"
   ]
  },
  {
   "cell_type": "markdown",
   "metadata": {},
   "source": [
    "Pilot-Streaming can be used to manage the Dask and Kafka environments both in the cloud and on the edge. \n",
    "\n",
    "\n",
    "`resource`: URL of the Local Resource Manager. Examples:\n",
    "\n",
    "* `slurm://localhost`: Submit to local SLURM resource manager, e.g. on master node of Wrangler or Stampede\n",
    "* `slurm+ssh://login1.wrangler.tacc.utexas.edu`: Submit to Wrangler master node SLURM via SSH (e.g. on node running a job)\n",
    "\n",
    "`type:` The `type` attributes specifies the cluster environment. It can be: `Spark`, `Dask` or `Kafka`.\n",
    "\n",
    "\n",
    "Depending on the resource there might be other configurations necessary, e.g. to ensure that the correct subnet is used the Spark driver can be configured using various environment variables:   os.environ[\"SPARK_LOCAL_IP\"]='129.114.58.2'"
   ]
  },
  {
   "cell_type": "code",
   "execution_count": 1,
   "metadata": {},
   "outputs": [
    {
     "name": "stderr",
     "output_type": "stream",
     "text": [
      "INFO:pykafka.topic:Successfully loaded pykafka.rdkafka extension.\n"
     ]
    }
   ],
   "source": [
    "# Pilot-Streaming\n",
    "import os, sys\n",
    "import pilot.streaming\n",
    "sys.modules['pilot.streaming']\n",
    "\n",
    "RESOURCE_URL_HPC=\"slurm+ssh://login4.stampede2.tacc.utexas.edu\"\n",
    "WORKING_DIRECTORY=os.path.join(os.environ[\"HOME\"], \"work\")\n",
    "\n",
    "RESOURCE_URL_EDGE=\"ssh://js-17-136.jetstream-cloud.org\"\n",
    "RESOURCE_URL_EDGE=\"ssh://localhost\"\n",
    "WORKING_DIRECTORY_EDGE=\"/home/aluckow\""
   ]
  },
  {
   "cell_type": "markdown",
   "metadata": {},
   "source": [
    "# 1. Dask on Jetstream (pre-launched VM)"
   ]
  },
  {
   "cell_type": "code",
   "execution_count": 2,
   "metadata": {},
   "outputs": [],
   "source": [
    "import distributed\n",
    "\n",
    "pilot_compute_description = {\n",
    "    \"resource\":RESOURCE_URL_EDGE,\n",
    "    \"working_directory\": WORKING_DIRECTORY_EDGE,\n",
    "    \"number_of_nodes\": 1,\n",
    "    \"cores_per_node\": 1,\n",
    "    \"dask_cores\" : 2,\n",
    "    \"project\": \"TG-MCB090174\",\n",
    "    \"queue\": \"normal\",\n",
    "    \"walltime\": 359,\n",
    "    \"type\":\"dask\"\n",
    "}"
   ]
  },
  {
   "cell_type": "code",
   "execution_count": 3,
   "metadata": {},
   "outputs": [
    {
     "name": "stderr",
     "output_type": "stream",
     "text": [
      "DEBUG:root:Run python Args: ['-m', 'pilot.plugins.dask.bootstrap_dask', ' -p ', '2']\n",
      "DEBUG:root:URL: ssh://localhost Host: localhost\n",
      "DEBUG:root:Execute: ['ssh', 'localhost', '/bin/date']\n",
      "DEBUG:root:Test Job succeeded\n"
     ]
    },
    {
     "name": "stdout",
     "output_type": "stream",
     "text": [
      "Working Directory: /home/aluckow\n",
      "dask-1fbc94d0-9dd5-11ea-96ae-55fd637a5036/home/aluckow\n",
      "Working Directory: /home/aluckow/dask-1fbc94d0-9dd5-11ea-96ae-55fd637a5036\n",
      "Start Dask Cluster: dask-ssh --nthreads 1 --remote-dask-worker distributed.cli.dask_worker localhost\n"
     ]
    },
    {
     "name": "stderr",
     "output_type": "stream",
     "text": [
      "DEBUG:root:Job State : running\n",
      "DEBUG:root:Results of scheduler startup file check: True\n",
      "DEBUG:root:**** Job: pilot-streaming-ssh1fbd4718-9dd5-11ea-96ae-55fd637a5036 State: running\n",
      "DEBUG:root:looking for Dask startup state at: /home/aluckow/dask-1fbc94d0-9dd5-11ea-96ae-55fd637a5036\n",
      "DEBUG:root:Results of scheduler startup file check: True\n",
      "DEBUG:root:Results of scheduler startup file check: True\n",
      "DEBUG:asyncio:Using selector: EpollSelector\n",
      "DEBUG:asyncio:Using selector: EpollSelector\n"
     ]
    },
    {
     "name": "stdout",
     "output_type": "stream",
     "text": [
      "**** Job: pilot-streaming-ssh1fbd4718-9dd5-11ea-96ae-55fd637a5036 State: running\n",
      "init distributed client\n",
      "Connect to Dask: tcp://localhost:8786\n",
      "{'type': 'Scheduler', 'id': 'Scheduler-609771f3-c949-420f-a8d0-aca4f1b67638', 'address': 'tcp://172.27.152.6:8786', 'services': {'dashboard': 8787}, 'workers': {'tcp://127.0.0.1:38405': {'type': 'Worker', 'id': 'tcp://127.0.0.1:38405', 'host': '127.0.0.1', 'resources': {}, 'local_directory': '/home/aluckow/dask-worker-space/worker-jc5zch54', 'name': 'tcp://127.0.0.1:38405', 'nthreads': 1, 'memory_limit': 2068051968, 'last_seen': 1590334937.3685338, 'services': {'dashboard': 43755}, 'metrics': {'cpu': 2.0, 'memory': 104726528, 'time': 1590334937.3671763, 'read_bytes': 1009.6416922428838, 'write_bytes': 1009.6416922428838, 'num_fds': 23, 'executing': 0, 'in_memory': 0, 'ready': 0, 'in_flight': 0, 'bandwidth': {'total': 100000000, 'workers': {}, 'types': {}}}, 'nanny': 'tcp://127.0.0.1:32927'}}}\n",
      "CPU times: user 34.2 ms, sys: 19.7 ms, total: 53.9 ms\n",
      "Wall time: 10.1 s\n"
     ]
    }
   ],
   "source": [
    "%%time\n",
    "dask_pilot = pilot.streaming.PilotComputeService.create_pilot(pilot_compute_description)\n",
    "dask_pilot.wait()"
   ]
  },
  {
   "cell_type": "code",
   "execution_count": 4,
   "metadata": {},
   "outputs": [
    {
     "name": "stderr",
     "output_type": "stream",
     "text": [
      "DEBUG:root:Results of scheduler startup file check: True\n"
     ]
    },
    {
     "data": {
      "text/plain": [
       "{'master_url': 'tcp://localhost:8786', 'web_ui_url': 'http://localhost:8787'}"
      ]
     },
     "execution_count": 4,
     "metadata": {},
     "output_type": "execute_result"
    }
   ],
   "source": [
    "dask_pilot.get_details()"
   ]
  },
  {
   "cell_type": "code",
   "execution_count": 5,
   "metadata": {},
   "outputs": [
    {
     "name": "stderr",
     "output_type": "stream",
     "text": [
      "DEBUG:root:Results of scheduler startup file check: True\n",
      "DEBUG:asyncio:Using selector: EpollSelector\n",
      "DEBUG:asyncio:Using selector: EpollSelector\n"
     ]
    },
    {
     "data": {
      "text/plain": [
       "{'type': 'Scheduler',\n",
       " 'id': 'Scheduler-609771f3-c949-420f-a8d0-aca4f1b67638',\n",
       " 'address': 'tcp://172.27.152.6:8786',\n",
       " 'services': {'dashboard': 8787},\n",
       " 'workers': {'tcp://127.0.0.1:38405': {'type': 'Worker',\n",
       "   'id': 'tcp://127.0.0.1:38405',\n",
       "   'host': '127.0.0.1',\n",
       "   'resources': {},\n",
       "   'local_directory': '/home/aluckow/dask-worker-space/worker-jc5zch54',\n",
       "   'name': 'tcp://127.0.0.1:38405',\n",
       "   'nthreads': 1,\n",
       "   'memory_limit': 2068051968,\n",
       "   'last_seen': 1590334943.3685687,\n",
       "   'services': {'dashboard': 43755},\n",
       "   'metrics': {'cpu': 2.0,\n",
       "    'memory': 104984576,\n",
       "    'time': 1590334943.3671722,\n",
       "    'read_bytes': 1155.4919950392598,\n",
       "    'write_bytes': 1211.4673858024073,\n",
       "    'num_fds': 23,\n",
       "    'executing': 0,\n",
       "    'in_memory': 0,\n",
       "    'ready': 0,\n",
       "    'in_flight': 0,\n",
       "    'bandwidth': {'total': 100000000, 'workers': {}, 'types': {}}},\n",
       "   'nanny': 'tcp://127.0.0.1:32927'}}}"
      ]
     },
     "execution_count": 5,
     "metadata": {},
     "output_type": "execute_result"
    }
   ],
   "source": [
    "import distributed\n",
    "dask_client  = distributed.Client(dask_pilot.get_details()['master_url'])\n",
    "dask_client.scheduler_info()"
   ]
  },
  {
   "cell_type": "code",
   "execution_count": 6,
   "metadata": {},
   "outputs": [
    {
     "data": {
      "text/plain": [
       "[0, 1, 4, 9, 16, 25, 36, 49, 64, 81]"
      ]
     },
     "execution_count": 6,
     "metadata": {},
     "output_type": "execute_result"
    }
   ],
   "source": [
    "dask_client.gather(dask_client.map(lambda a: a*a, range(10)))"
   ]
  },
  {
   "cell_type": "markdown",
   "metadata": {},
   "source": [
    "# 2. Start Kafka Cluster"
   ]
  },
  {
   "cell_type": "markdown",
   "metadata": {},
   "source": [
    "# 3. Start Stream Processing on Kafka/Dask"
   ]
  }
 ],
 "metadata": {
  "kernelspec": {
   "display_name": "Python 3",
   "language": "python",
   "name": "python3"
  },
  "language_info": {
   "codemirror_mode": {
    "name": "ipython",
    "version": 3
   },
   "file_extension": ".py",
   "mimetype": "text/x-python",
   "name": "python",
   "nbconvert_exporter": "python",
   "pygments_lexer": "ipython3",
   "version": "3.7.6"
  },
  "toc": {
   "toc_cell": false,
   "toc_number_sections": true,
   "toc_threshold": 6,
   "toc_window_display": false
  }
 },
 "nbformat": 4,
 "nbformat_minor": 4
}
