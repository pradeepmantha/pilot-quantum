{
 "cells": [
  {
   "cell_type": "markdown",
   "metadata": {},
   "source": [
    "# IoT Examples (Tested on Wrangler/Jetstream)\n",
    "\n",
    "\n",
    "    VM Firewall Rules\n",
    "    \n",
    "    To                         Action      From\n",
    "    --                         ------      ----\n",
    "    22/tcp                     ALLOW       Anywhere\n",
    "    Anywhere                   ALLOW       129.114.63.32/27\n",
    "    Anywhere                   ALLOW       129.114.17.136\n",
    "    8888                       ALLOW       Anywhere\n",
    "    Anywhere                   ALLOW       206.76.196.32/27\n",
    "    Anywhere                   ALLOW       206.76.0.0/16\n",
    "    22/tcp (v6)                ALLOW       Anywhere (v6)\n",
    "    8888 (v6)                  ALLOW       Anywhere (v6)"
   ]
  },
  {
   "cell_type": "code",
   "execution_count": null,
   "metadata": {},
   "outputs": [],
   "source": [
    "import os, sys\n",
    "import distributed\n",
    "import json\n",
    "import pilot.streaming\n",
    "from confluent_kafka import Producer, Consumer\n",
    "import socket\n",
    "\n",
    "sys.path.append(\"../../\")\n",
    "# configure logging\n",
    "import logging\n",
    "\n",
    "#logging.getLogger().setLevel(logging.DEBUG)\n",
    "logging.getLogger(\"stevedore.extension\").setLevel(logging.CRITICAL)\n",
    "logging.getLogger(\"keystoneauth\").setLevel(logging.CRITICAL)\n",
    "logging.getLogger(\"urllib3.connectionpool\").setLevel(logging.CRITICAL)\n",
    "logging.getLogger(\"asyncio\").setLevel(logging.CRITICAL)\n",
    "sys.modules['pilot.streaming']\n",
    "\n",
    "\n",
    "# Configuration\n",
    "RESOURCE_URL_DASK = \"ssh://aluckow@js-129-114-17-61.jetstream-cloud.org\"\n",
    "RESOURCE_URL_KAFKA = \"ssh://aluckow@js-129-114-17-61.jetstream-cloud.org\"\n",
    "\n",
    "WORKING_DIRECTORY = os.path.join(os.environ[\"HOME\"], \"work\")\n",
    "\n",
    "# RESOURCE_URL_EDGE=\"os://cc.lrz.de\"\n",
    "# RESOURCE_URL_EDGE=\"ssh://localhost\""
   ]
  },
  {
   "cell_type": "markdown",
   "metadata": {},
   "source": [
    "# Start Kafka"
   ]
  },
  {
   "cell_type": "code",
   "execution_count": null,
   "metadata": {},
   "outputs": [],
   "source": [
    "pilot_compute_description = {\n",
    "    \"resource\": RESOURCE_URL_KAFKA,\n",
    "    \"working_directory\": WORKING_DIRECTORY,\n",
    "    \"number_of_nodes\": 1,\n",
    "    \"cores_per_node\": 1,\n",
    "    \"config_name\": \"jetstream\",\n",
    "    \"walltime\": 59,\n",
    "    \"type\": \"kafka\"\n",
    "}\n",
    "kafka_pilot = pilot.streaming.PilotComputeService.create_pilot(pilot_compute_description)\n",
    "kafka_pilot.wait()"
   ]
  },
  {
   "cell_type": "code",
   "execution_count": null,
   "metadata": {},
   "outputs": [],
   "source": [
    "kafka_details=kafka_pilot.get_details()\n",
    "kafka_details"
   ]
  },
  {
   "cell_type": "code",
   "execution_count": null,
   "metadata": {},
   "outputs": [],
   "source": [
    "topic_name = \"pilot-streaming-test\"\n",
    "\n",
    "conf = {'bootstrap.servers': kafka_details[\"bootstrap_servers\"],\n",
    "        'group.id': \"radical2\",\n",
    "        'auto.offset.reset': 'earliest'}\n",
    "\n",
    "producer = Producer(conf)\n",
    "consumer = Consumer(conf)\n",
    "consumer.subscribe([topic_name])\n",
    "\n",
    "producer.produce(topic_name, key=\"key\", value=\"Hello World\")\n",
    "producer.flush()"
   ]
  },
  {
   "cell_type": "code",
   "execution_count": null,
   "metadata": {},
   "outputs": [],
   "source": [
    "msg = consumer.poll(timeout=2.0)\n",
    "\n",
    "if msg is not None:\n",
    "    print(msg.value())"
   ]
  }
 ],
 "metadata": {
  "kernelspec": {
   "display_name": "Python 3",
   "language": "python",
   "name": "python3"
  },
  "language_info": {
   "codemirror_mode": {
    "name": "ipython",
    "version": 3
   },
   "file_extension": ".py",
   "mimetype": "text/x-python",
   "name": "python",
   "nbconvert_exporter": "python",
   "pygments_lexer": "ipython3",
   "version": "3.9.7"
  }
 },
 "nbformat": 4,
 "nbformat_minor": 4
}
