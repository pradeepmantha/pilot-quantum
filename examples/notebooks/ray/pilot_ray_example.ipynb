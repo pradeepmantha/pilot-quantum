{
 "cells": [
  {
   "cell_type": "markdown",
   "metadata": {},
   "source": [
    "# Pilot Ray Example"
   ]
  },
  {
   "cell_type": "code",
   "execution_count": null,
   "metadata": {},
   "outputs": [],
   "source": [
    "# Pilot-Ray\n",
    "import os, sys\n",
    "import json\n",
    "import pilot.streaming\n",
    "import getpass\n",
    "import socket\n",
    "\n",
    "#configure loggin\n",
    "import logging\n",
    "logging.getLogger().setLevel(logging.DEBUG)\n",
    "logging.getLogger(\"stevedore.extension\").setLevel(logging.CRITICAL)\n",
    "logging.getLogger(\"keystoneauth\").setLevel(logging.CRITICAL)\n",
    "logging.getLogger(\"urllib3.connectionpool\").setLevel(logging.CRITICAL)\n",
    "logging.getLogger(\"asyncio\").setLevel(logging.CRITICAL)\n",
    "\n",
    "sys.modules['pilot.streaming']\n",
    "\n",
    "RESOURCE_URL_HPC=\"slurm+ssh://login4.stampede2.tacc.utexas.edu\"\n",
    "WORKING_DIRECTORY=os.path.join(os.environ[\"HOME\"], \"work\")\n",
    "\n",
    "#RESOURCE_URL_EDGE=\"ssh://js-17-136.jetstream-cloud.org\"\n",
    "#RESOURCE_URL_EDGE=\"os://cc.lrz.de\"\n",
    "RESOURCE_URL_EDGE=\"ssh://localhost\"\n",
    "WORKING_DIRECTORY_EDGE=os.environ[\"HOME\"]"
   ]
  },
  {
   "cell_type": "markdown",
   "metadata": {},
   "source": [
    "## Setup Cluster"
   ]
  },
  {
   "cell_type": "code",
   "execution_count": null,
   "metadata": {},
   "outputs": [],
   "source": [
    "pilot_compute_description = {\n",
    "    \"resource\":RESOURCE_URL_EDGE,\n",
    "    \"working_directory\": os.path.join(WORKING_DIRECTORY_EDGE, \"work\"),\n",
    "    \"number_cores\": 2,\n",
    "    \"project\": \"TG-MCB090174\",\n",
    "    \"queue\": \"normal\",\n",
    "    \"walltime\": 59,\n",
    "    \"type\":\"ray\"\n",
    "}"
   ]
  },
  {
   "cell_type": "code",
   "execution_count": null,
   "metadata": {},
   "outputs": [],
   "source": [
    "ray_pilot = pilot.streaming.PilotComputeService.create_pilot(pilot_compute_description)\n",
    "ray_pilot.wait()"
   ]
  },
  {
   "cell_type": "markdown",
   "metadata": {},
   "source": [
    "## Ray Playground"
   ]
  },
  {
   "cell_type": "code",
   "execution_count": null,
   "metadata": {},
   "outputs": [],
   "source": [
    "import ray\n",
    "print(ray.__version__)"
   ]
  },
  {
   "cell_type": "code",
   "execution_count": null,
   "metadata": {
    "notebookRunGroups": {
     "groupValue": "1"
    }
   },
   "outputs": [],
   "source": [
    "os.environ[\"RAY_ENABLE_WINDOWS_OR_OSX_CLUSTER\"] = \"1\"\n",
    "ray_client = ray.init(_node_ip_address=\"192.168.8.7\", num_cpus=0, num_gpus=0)\n"
   ]
  },
  {
   "cell_type": "code",
   "execution_count": null,
   "metadata": {},
   "outputs": [],
   "source": [
    "ray_client.address_info"
   ]
  },
  {
   "cell_type": "code",
   "execution_count": null,
   "metadata": {},
   "outputs": [],
   "source": [
    "ray_client"
   ]
  },
  {
   "cell_type": "code",
   "execution_count": null,
   "metadata": {},
   "outputs": [],
   "source": [
    "# create a remote function\n",
    "@ray.remote\n",
    "def f(x):\n",
    "    return x * x\n",
    "\n",
    "# call the remote function ten times in parallel\n",
    "# and return the results as a list\n",
    "ray.get([f.remote(i) for i in range(10)])"
   ]
  },
  {
   "cell_type": "code",
   "execution_count": null,
   "metadata": {},
   "outputs": [],
   "source": [
    "ray.cluster_resources()"
   ]
  },
  {
   "cell_type": "code",
   "execution_count": null,
   "metadata": {},
   "outputs": [],
   "source": [
    "# start a Ray cluster via slurm\n",
    "# Path: ray_exploration.ipynb\n",
    "import ray\n",
    "import os\n",
    "\n",
    "ray.init(address=os.environ[\"ip_head\"], redis_password=os.environ[\"redis_password\"])\n"
   ]
  }
 ],
 "metadata": {
  "kernelspec": {
   "display_name": "pilot-quantum",
   "language": "python",
   "name": "python3"
  },
  "language_info": {
   "codemirror_mode": {
    "name": "ipython",
    "version": 3
   },
   "file_extension": ".py",
   "mimetype": "text/x-python",
   "name": "python",
   "nbconvert_exporter": "python",
   "pygments_lexer": "ipython3",
   "version": "3.10.12"
  }
 },
 "nbformat": 4,
 "nbformat_minor": 2
}
