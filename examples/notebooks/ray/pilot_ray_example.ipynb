{
 "cells": [
  {
   "cell_type": "markdown",
   "metadata": {},
   "source": [
    "# Pilot Ray Example"
   ]
  },
  {
   "cell_type": "code",
   "execution_count": 1,
   "metadata": {},
   "outputs": [],
   "source": [
    "# Pilot-Ray\n",
    "import os, sys, socket\n",
    "sys.path.insert(0, \"../../..\")\n",
    "import pilot.streaming\n",
    "import ray\n",
    "\n",
    "\n",
    "#configure loggin\n",
    "import logging\n",
    "logging.getLogger().setLevel(logging.DEBUG)\n",
    "logging.getLogger(\"stevedore.extension\").setLevel(logging.CRITICAL)\n",
    "logging.getLogger(\"keystoneauth\").setLevel(logging.CRITICAL)\n",
    "logging.getLogger(\"urllib3.connectionpool\").setLevel(logging.CRITICAL)\n",
    "logging.getLogger(\"asyncio\").setLevel(logging.CRITICAL)\n",
    "\n",
    "sys.modules['pilot.streaming']\n",
    "\n",
    "RESOURCE_URL_HPC=\"slurm+ssh://login03.chn\"\n",
    "WORKING_DIRECTORY=os.path.join(os.environ[\"HOME\"], \"work\")\n"
   ]
  },
  {
   "cell_type": "markdown",
   "metadata": {},
   "source": [
    "## Setup Cluster"
   ]
  },
  {
   "cell_type": "code",
   "execution_count": 2,
   "metadata": {},
   "outputs": [],
   "source": [
    "# pilot_compute_description = {\n",
    "#     \"resource\":RESOURCE_URL_HPC,\n",
    "#     \"working_directory\": os.path.join(WORKING_DIRECTORY, \"work\"),\n",
    "#     \"number_of_nodes\": 1, # used for SLURM allocation\n",
    "#     \"cores_per_node\": 2, # used for Ray configuration\n",
    "#     \"gpus_per_node\": 0,  # used for Ray configuration\n",
    "#     \"scheduler_script_commands\": [\"#SBATCH --constraint=cpu\",\n",
    "#                                   \"#SBATCH --qos regular\",\n",
    "#                                   ],    \n",
    "#     \"walltime\": 59,\n",
    "#     \"type\":\"ray\",  \n",
    "# }\n",
    "\n",
    "pilot_compute_description = {\n",
    "    \"resource\": RESOURCE_URL_HPC,\n",
    "    \"working_directory\": WORKING_DIRECTORY,\n",
    "    \"number_cores\": 1,\n",
    "    \"queue\": \"normal\",\n",
    "    \"walltime\": 5,\n",
    "    \"type\": \"ray\",\n",
    "    \"project\": \"m4408\",\n",
    "    \"os_ssh_keyfile\": \"~/.ssh/nersc\",\n",
    "    \"scheduler_script_commands\": [\"#SBATCH --constraint=cpu\"]\n",
    "}"
   ]
  },
  {
   "cell_type": "code",
   "execution_count": 3,
   "metadata": {},
   "outputs": [
    {
     "name": "stderr",
     "output_type": "stream",
     "text": [
      "11/25/2023 10:10:15 AM - root - DEBUG - Run python Args: ['-m', 'pilot.plugins.ray.bootstrap_ray', '-j', 'ray-e26da67a-8bbd-11ee-832e-dbc3e3c58676', ' -w ', '/global/homes/l/luckow/work']\n",
      "11/25/2023 10:10:15 AM - root - DEBUG - Command: python -m pilot.plugins.ray.bootstrap_ray -j ray-e26da67a-8bbd-11ee-832e-dbc3e3c58676  -w  /global/homes/l/luckow/work\n",
      "11/25/2023 10:10:15 AM - pilot-streaming - DEBUG - Pilot-Job SLURM: Parsing job description: {'executable': 'python', 'arguments': ['-m', 'pilot.plugins.ray.bootstrap_ray', '-j', 'ray-e26da67a-8bbd-11ee-832e-dbc3e3c58676', ' -w ', '/global/homes/l/luckow/work'], 'working_directory': '/global/homes/l/luckow/work', 'output': 'ray_job_ray-e26da67a-8bbd-11ee-832e-dbc3e3c58676.stdout', 'error': 'ray_job_ray-e26da67a-8bbd-11ee-832e-dbc3e3c58676.stderr', 'number_of_nodes': 1, 'cores_per_node': 1, 'project': 'm4408', 'reservation': None, 'queue': 'normal', 'walltime': 5, 'pilot_compute_description': {'resource': 'slurm+ssh://login03.chn', 'working_directory': '/global/homes/l/luckow/work', 'number_cores': 1, 'queue': 'normal', 'walltime': 5, 'type': 'ray', 'project': 'm4408', 'os_ssh_keyfile': '~/.ssh/nersc', 'scheduler_script_commands': ['#SBATCH --constraint=cpu']}}\n",
      "11/25/2023 10:10:15 AM - root - DEBUG - Queue: normal\n",
      "11/25/2023 10:10:15 AM - pilot-streaming - DEBUG - Submit pilot job to: slurm+ssh://login03.chn\n",
      "11/25/2023 10:10:15 AM - pilot-streaming - DEBUG - Type Job IDps-e26e3\n"
     ]
    },
    {
     "name": "stdout",
     "output_type": "stream",
     "text": [
      "Working Directory: /global/homes/l/luckow/work\n",
      "/tmp/tmpegnpr0z4\n"
     ]
    },
    {
     "name": "stderr",
     "output_type": "stream",
     "text": [
      "***************************************************************************\n",
      "                          NOTICE TO USERS\n",
      "\n",
      "Lawrence Berkeley National Laboratory operates this computer system under \n",
      "contract to the U.S. Department of Energy.  This computer system is the \n",
      "property of the United States Government and is for authorized use only.\n",
      "Users (authorized or unauthorized) have no explicit or implicit \n",
      "expectation of privacy.\n",
      "\n",
      "Any or all uses of this system and all files on this system may be\n",
      "intercepted, monitored, recorded, copied, audited, inspected, and disclosed\n",
      "to authorized site, Department of Energy, and law enforcement personnel,\n",
      "as well as authorized officials of other agencies, both domestic and foreign.\n",
      "By using this system, the user consents to such interception, monitoring,\n",
      "recording, copying, auditing, inspection, and disclosure at the discretion\n",
      "of authorized site or Department of Energy personnel.\n",
      "\n",
      "Unauthorized or improper use of this system may result in administrative\n",
      "disciplinary action and civil and criminal penalties. By continuing to use\n",
      "this system you indicate your awareness of and consent to these terms and\n",
      "conditions of use. LOG OFF IMMEDIATELY if you do not agree to the conditions\n",
      "stated in this warning.\n",
      "\n",
      "*****************************************************************************\n",
      "\n",
      "Login connection to host x3113c0s7b0n0:\n",
      "\n"
     ]
    },
    {
     "name": "stdout",
     "output_type": "stream",
     "text": [
      "Submission of Job Command: ssh login03.chn sbatch  tmpegnpr0z4\n",
      "Cleanup: ssh login03.chn rm tmpegnpr0z4\n"
     ]
    },
    {
     "name": "stderr",
     "output_type": "stream",
     "text": [
      "***************************************************************************\n",
      "                          NOTICE TO USERS\n",
      "\n",
      "Lawrence Berkeley National Laboratory operates this computer system under \n",
      "contract to the U.S. Department of Energy.  This computer system is the \n",
      "property of the United States Government and is for authorized use only.\n",
      "Users (authorized or unauthorized) have no explicit or implicit \n",
      "expectation of privacy.\n",
      "\n",
      "Any or all uses of this system and all files on this system may be\n",
      "intercepted, monitored, recorded, copied, audited, inspected, and disclosed\n",
      "to authorized site, Department of Energy, and law enforcement personnel,\n",
      "as well as authorized officials of other agencies, both domestic and foreign.\n",
      "By using this system, the user consents to such interception, monitoring,\n",
      "recording, copying, auditing, inspection, and disclosure at the discretion\n",
      "of authorized site or Department of Energy personnel.\n",
      "\n",
      "Unauthorized or improper use of this system may result in administrative\n",
      "disciplinary action and civil and criminal penalties. By continuing to use\n",
      "this system you indicate your awareness of and consent to these terms and\n",
      "conditions of use. LOG OFF IMMEDIATELY if you do not agree to the conditions\n",
      "stated in this warning.\n",
      "\n",
      "*****************************************************************************\n",
      "\n",
      "Login connection to host x3113c0s7b0n0:\n",
      "\n",
      "11/25/2023 10:10:26 AM - pilot-streaming - DEBUG - Found SLURM Job ID: 18649791\n",
      "11/25/2023 10:10:26 AM - root - DEBUG - Query State: squeue -j 18649791 Output:              JOBID PARTITION     NAME     USER ST       TIME  NODES NODELIST(REASON)\n",
      "          18649791 regular_m ps-e26e3   luckow PD       0:00      1 (Resources)\n",
      "\n",
      "11/25/2023 10:10:26 AM - root - DEBUG - Results of scheduler startup file check: False\n",
      "11/25/2023 10:10:26 AM - root - DEBUG - Scheduler not started\n"
     ]
    },
    {
     "name": "stdout",
     "output_type": "stream",
     "text": [
      "**** Job: 18649791 State: Queue\n"
     ]
    },
    {
     "name": "stderr",
     "output_type": "stream",
     "text": [
      "11/25/2023 10:10:26 AM - root - DEBUG - Query State: squeue -j 18649791 Output:              JOBID PARTITION     NAME     USER ST       TIME  NODES NODELIST(REASON)\n",
      "          18649791 regular_m ps-e26e3   luckow PD       0:00      1 (Resources)\n",
      "\n",
      "11/25/2023 10:10:26 AM - root - DEBUG - **** Job: 18649791 State: Queue\n",
      "11/25/2023 10:10:33 AM - root - DEBUG - Query State: squeue -j 18649791 Output:              JOBID PARTITION     NAME     USER ST       TIME  NODES NODELIST(REASON)\n",
      "          18649791 regular_m ps-e26e3   luckow PD       0:00      1 (Resources)\n",
      "\n",
      "11/25/2023 10:10:33 AM - root - DEBUG - **** Job: 18649791 State: Queue\n",
      "11/25/2023 10:10:39 AM - root - DEBUG - Query State: squeue -j 18649791 Output:              JOBID PARTITION     NAME     USER ST       TIME  NODES NODELIST(REASON)\n",
      "          18649791 regular_m ps-e26e3   luckow  R       0:00      1 nid005662\n",
      "\n",
      "11/25/2023 10:10:39 AM - root - DEBUG - **** Job: 18649791 State: Running\n",
      "11/25/2023 10:10:39 AM - root - DEBUG - Looking for Ray startup state at: /global/homes/l/luckow/work/ray-e26da67a-8bbd-11ee-832e-dbc3e3c58676\n",
      "11/25/2023 10:10:39 AM - root - DEBUG - Results of scheduler startup file check: False\n",
      "11/25/2023 10:10:47 AM - root - DEBUG - Query State: squeue -j 18649791 Output:              JOBID PARTITION     NAME     USER ST       TIME  NODES NODELIST(REASON)\n",
      "          18649791 regular_m ps-e26e3   luckow  R       0:08      1 nid005662\n",
      "\n",
      "11/25/2023 10:10:47 AM - root - DEBUG - **** Job: 18649791 State: Running\n",
      "11/25/2023 10:10:47 AM - root - DEBUG - Looking for Ray startup state at: /global/homes/l/luckow/work/ray-e26da67a-8bbd-11ee-832e-dbc3e3c58676\n",
      "11/25/2023 10:10:47 AM - root - DEBUG - Results of scheduler startup file check: False\n",
      "11/25/2023 10:10:53 AM - root - DEBUG - Query State: squeue -j 18649791 Output:              JOBID PARTITION     NAME     USER ST       TIME  NODES NODELIST(REASON)\n",
      "          18649791 regular_m ps-e26e3   luckow  R       0:14      1 nid005662\n",
      "\n",
      "11/25/2023 10:10:53 AM - root - DEBUG - **** Job: 18649791 State: Running\n",
      "11/25/2023 10:10:53 AM - root - DEBUG - Looking for Ray startup state at: /global/homes/l/luckow/work/ray-e26da67a-8bbd-11ee-832e-dbc3e3c58676\n",
      "11/25/2023 10:10:53 AM - root - DEBUG - Results of scheduler startup file check: False\n",
      "11/25/2023 10:10:59 AM - root - DEBUG - Query State: squeue -j 18649791 Output:              JOBID PARTITION     NAME     USER ST       TIME  NODES NODELIST(REASON)\n",
      "          18649791 regular_m ps-e26e3   luckow  R       0:20      1 nid005662\n",
      "\n",
      "11/25/2023 10:10:59 AM - root - DEBUG - **** Job: 18649791 State: Running\n",
      "11/25/2023 10:10:59 AM - root - DEBUG - Looking for Ray startup state at: /global/homes/l/luckow/work/ray-e26da67a-8bbd-11ee-832e-dbc3e3c58676\n",
      "11/25/2023 10:10:59 AM - root - DEBUG - Results of scheduler startup file check: False\n",
      "11/25/2023 10:11:05 AM - root - DEBUG - Query State: squeue -j 18649791 Output:              JOBID PARTITION     NAME     USER ST       TIME  NODES NODELIST(REASON)\n",
      "          18649791 regular_m ps-e26e3   luckow  R       0:26      1 nid005662\n",
      "\n",
      "11/25/2023 10:11:05 AM - root - DEBUG - **** Job: 18649791 State: Running\n",
      "11/25/2023 10:11:05 AM - root - DEBUG - Looking for Ray startup state at: /global/homes/l/luckow/work/ray-e26da67a-8bbd-11ee-832e-dbc3e3c58676\n",
      "11/25/2023 10:11:05 AM - root - DEBUG - Results of scheduler startup file check: False\n",
      "11/25/2023 10:11:12 AM - root - DEBUG - Query State: squeue -j 18649791 Output:              JOBID PARTITION     NAME     USER ST       TIME  NODES NODELIST(REASON)\n",
      "          18649791 regular_m ps-e26e3   luckow  R       0:33      1 nid005662\n",
      "\n",
      "11/25/2023 10:11:12 AM - root - DEBUG - **** Job: 18649791 State: Running\n",
      "11/25/2023 10:11:12 AM - root - DEBUG - Looking for Ray startup state at: /global/homes/l/luckow/work/ray-e26da67a-8bbd-11ee-832e-dbc3e3c58676\n",
      "11/25/2023 10:11:12 AM - root - DEBUG - Results of scheduler startup file check: False\n",
      "11/25/2023 10:11:18 AM - root - DEBUG - Query State: squeue -j 18649791 Output:              JOBID PARTITION     NAME     USER ST       TIME  NODES NODELIST(REASON)\n",
      "          18649791 regular_m ps-e26e3   luckow  R       0:39      1 nid005662\n",
      "\n",
      "11/25/2023 10:11:18 AM - root - DEBUG - **** Job: 18649791 State: Running\n",
      "11/25/2023 10:11:18 AM - root - DEBUG - Looking for Ray startup state at: /global/homes/l/luckow/work/ray-e26da67a-8bbd-11ee-832e-dbc3e3c58676\n",
      "11/25/2023 10:11:18 AM - root - DEBUG - Results of scheduler startup file check: True\n",
      "11/25/2023 10:11:18 AM - root - DEBUG - Results of scheduler startup file check: True\n"
     ]
    },
    {
     "name": "stdout",
     "output_type": "stream",
     "text": [
      "init Ray client\n",
      "Connect to 128.55.76.133:10001\n"
     ]
    }
   ],
   "source": [
    "ray_pilot = pilot.streaming.PilotComputeService.create_pilot(pilot_compute_description)\n",
    "ray_pilot.wait()"
   ]
  },
  {
   "cell_type": "markdown",
   "metadata": {},
   "source": [
    "## Ray Test"
   ]
  },
  {
   "cell_type": "code",
   "execution_count": 4,
   "metadata": {},
   "outputs": [
    {
     "name": "stderr",
     "output_type": "stream",
     "text": [
      "11/25/2023 10:11:26 AM - root - DEBUG - Results of scheduler startup file check: True\n"
     ]
    },
    {
     "data": {
      "text/plain": [
       "{'master_url': '128.55.76.133:10001',\n",
       " 'web_ui_url': 'http://128.55.76.133:8265'}"
      ]
     },
     "execution_count": 4,
     "metadata": {},
     "output_type": "execute_result"
    }
   ],
   "source": [
    "ray_pilot.get_details()"
   ]
  },
  {
   "cell_type": "code",
   "execution_count": 5,
   "metadata": {},
   "outputs": [
    {
     "name": "stderr",
     "output_type": "stream",
     "text": [
      "11/25/2023 10:11:26 AM - root - DEBUG - Results of scheduler startup file check: True\n"
     ]
    },
    {
     "name": "stdout",
     "output_type": "stream",
     "text": [
      "Connect to 128.55.76.133:10001\n"
     ]
    }
   ],
   "source": [
    "ray_client = ray_pilot.get_context()"
   ]
  },
  {
   "cell_type": "code",
   "execution_count": 7,
   "metadata": {},
   "outputs": [],
   "source": [
    "\n",
    "# create a remote function\n",
    "@ray.remote\n",
    "def f(x):\n",
    "    return x * x\n",
    "\n",
    "with ray_client:\n",
    "    # call the remote function ten times in parallel\n",
    "    # and return the results as a list\n",
    "    print(ray.get([f.remote(i) for i in range(10)]))"
   ]
  },
  {
   "cell_type": "markdown",
   "metadata": {},
   "source": [
    "# Shutdown Cluster"
   ]
  },
  {
   "cell_type": "code",
   "execution_count": null,
   "metadata": {},
   "outputs": [],
   "source": [
    "ray_pilot.cancel()"
   ]
  }
 ],
 "metadata": {
  "kernelspec": {
   "display_name": "pilot-quantum",
   "language": "python",
   "name": "python3"
  },
  "language_info": {
   "codemirror_mode": {
    "name": "ipython",
    "version": 3
   },
   "file_extension": ".py",
   "mimetype": "text/x-python",
   "name": "python",
   "nbconvert_exporter": "python",
   "pygments_lexer": "ipython3",
   "version": "3.10.12"
  }
 },
 "nbformat": 4,
 "nbformat_minor": 2
}
