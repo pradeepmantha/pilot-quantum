{
 "cells": [
  {
   "cell_type": "markdown",
   "metadata": {},
   "source": [
    "# Pilot Ray Example"
   ]
  },
  {
   "cell_type": "code",
   "execution_count": null,
   "metadata": {},
   "outputs": [],
   "source": [
    "# Pilot-Ray\n",
    "import os, sys\n",
    "sys.path.insert(0, \"../../..\")\n",
    "import pilot.streaming\n",
    "import ray\n",
    "\n",
    "#configure loggin\n",
    "import logging\n",
    "logging.getLogger().setLevel(logging.DEBUG)\n",
    "logging.getLogger(\"stevedore.extension\").setLevel(logging.CRITICAL)\n",
    "logging.getLogger(\"keystoneauth\").setLevel(logging.CRITICAL)\n",
    "logging.getLogger(\"urllib3.connectionpool\").setLevel(logging.CRITICAL)\n",
    "logging.getLogger(\"asyncio\").setLevel(logging.CRITICAL)\n",
    "\n",
    "sys.modules['pilot.streaming']\n",
    "\n",
    "RESOURCE_URL_HPC=\"slurm+ssh://login03.chn\"\n",
    "RESOURCE_URL_LOCAL=\"ssh://localhost\"\n",
    "WORKING_DIRECTORY=os.path.join(os.environ[\"HOME\"], \"work\")\n"
   ]
  },
  {
   "cell_type": "markdown",
   "metadata": {},
   "source": [
    "## Setup Cluster"
   ]
  },
  {
   "cell_type": "code",
   "execution_count": null,
   "metadata": {},
   "outputs": [],
   "source": [
    "pilot_compute_description = {\n",
    "    \"resource\":RESOURCE_URL_HPC,\n",
    "    \"working_directory\": os.path.join(WORKING_DIRECTORY, \"work\"),\n",
    "    \"cores_per_node\": 1,\n",
    "    \"gpus_per_node\": 0,    \n",
    "    \"queue\": \"normal\",\n",
    "    \"walltime\": 59,\n",
    "    \"type\":\"ray\"\n",
    "}"
   ]
  },
  {
   "cell_type": "code",
   "execution_count": null,
   "metadata": {},
   "outputs": [],
   "source": [
    "ray_pilot = pilot.streaming.PilotComputeService.create_pilot(pilot_compute_description)\n",
    "ray_pilot.wait()"
   ]
  },
  {
   "cell_type": "markdown",
   "metadata": {},
   "source": []
  },
  {
   "cell_type": "markdown",
   "metadata": {},
   "source": [
    "## Ray Test"
   ]
  },
  {
   "cell_type": "code",
   "execution_count": null,
   "metadata": {},
   "outputs": [],
   "source": [
    "#ray_client = ray.init(address=\"ray://128.55.64.12:10001\")\n",
    "ray_client = ray_pilot.get_context()"
   ]
  },
  {
   "cell_type": "code",
   "execution_count": null,
   "metadata": {},
   "outputs": [],
   "source": [
    "#ray_client = ray.init(address=\"128.55.64.12:6379\", ignore_reinit_error=True)"
   ]
  },
  {
   "cell_type": "code",
   "execution_count": null,
   "metadata": {},
   "outputs": [],
   "source": [
    "ray.cluster_resources()"
   ]
  },
  {
   "cell_type": "code",
   "execution_count": null,
   "metadata": {},
   "outputs": [],
   "source": [
    "# create a remote function\n",
    "@ray.remote\n",
    "def f(x):\n",
    "    return x * x\n",
    "\n",
    "# call the remote function ten times in parallel\n",
    "# and return the results as a list\n",
    "ray.get([f.remote(i) for i in range(10)])"
   ]
  }
 ],
 "metadata": {
  "kernelspec": {
   "display_name": "pilot-quantum",
   "language": "python",
   "name": "python3"
  },
  "language_info": {
   "codemirror_mode": {
    "name": "ipython",
    "version": 3
   },
   "file_extension": ".py",
   "mimetype": "text/x-python",
   "name": "python",
   "nbconvert_exporter": "python",
   "pygments_lexer": "ipython3",
   "version": "3.10.12"
  }
 },
 "nbformat": 4,
 "nbformat_minor": 2
}
