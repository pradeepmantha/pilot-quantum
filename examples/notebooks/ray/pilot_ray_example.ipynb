{
 "cells": [
  {
   "cell_type": "markdown",
   "metadata": {},
   "source": [
    "# Pilot Ray Example"
   ]
  },
  {
   "cell_type": "code",
   "execution_count": null,
   "metadata": {},
   "outputs": [],
   "source": [
    "# Pilot-Ray\n",
    "import os, sys, socket\n",
    "sys.path.insert(0, \"../../..\")\n",
    "import pilot.streaming\n",
    "import ray\n",
    "\n",
    "\n",
    "#configure loggin\n",
    "import logging\n",
    "logging.getLogger().setLevel(logging.DEBUG)\n",
    "logging.getLogger(\"stevedore.extension\").setLevel(logging.CRITICAL)\n",
    "logging.getLogger(\"keystoneauth\").setLevel(logging.CRITICAL)\n",
    "logging.getLogger(\"urllib3.connectionpool\").setLevel(logging.CRITICAL)\n",
    "logging.getLogger(\"asyncio\").setLevel(logging.CRITICAL)\n",
    "\n",
    "sys.modules['pilot.streaming']\n",
    "\n",
    "RESOURCE_URL_HPC=\"slurm+ssh://login03.chn\"\n",
    "WORKING_DIRECTORY=os.path.join(os.environ[\"HOME\"], \"work\")\n"
   ]
  },
  {
   "cell_type": "markdown",
   "metadata": {},
   "source": [
    "## Setup Cluster"
   ]
  },
  {
   "cell_type": "code",
   "execution_count": null,
   "metadata": {},
   "outputs": [],
   "source": [
    "# pilot_compute_description = {\n",
    "#     \"resource\":RESOURCE_URL_HPC,\n",
    "#     \"working_directory\": os.path.join(WORKING_DIRECTORY, \"work\"),\n",
    "#     \"number_of_nodes\": 1, # used for SLURM allocation\n",
    "#     \"cores_per_node\": 2, # used for Ray configuration\n",
    "#     \"gpus_per_node\": 0,  # used for Ray configuration\n",
    "#     \"scheduler_script_commands\": [\"#SBATCH --constraint=cpu\",\n",
    "#                                   \"#SBATCH --qos regular\",\n",
    "#                                   ],    \n",
    "#     \"walltime\": 59,\n",
    "#     \"type\":\"ray\",  \n",
    "# }\n",
    "\n",
    "pilot_compute_description = {\n",
    "    \"resource\": RESOURCE_URL_HPC,\n",
    "    \"working_directory\": WORKING_DIRECTORY,\n",
    "    \"number_cores\": 1,\n",
    "    \"queue\": \"normal\",\n",
    "    \"walltime\": 5,\n",
    "    \"type\": \"ray\",\n",
    "    \"project\": \"m4408\",\n",
    "    \"os_ssh_keyfile\": \"~/.ssh/nersc\",\n",
    "    \"scheduler_script_commands\": [\"#SBATCH --constraint=cpu\"]\n",
    "}"
   ]
  },
  {
   "cell_type": "code",
   "execution_count": null,
   "metadata": {},
   "outputs": [],
   "source": [
    "ray_pilot = pilot.streaming.PilotComputeService.create_pilot(pilot_compute_description)\n",
    "ray_pilot.wait()"
   ]
  },
  {
   "cell_type": "markdown",
   "metadata": {},
   "source": [
    "## Ray Test"
   ]
  },
  {
   "cell_type": "code",
   "execution_count": null,
   "metadata": {},
   "outputs": [],
   "source": [
    "ray_pilot.get_details()"
   ]
  },
  {
   "cell_type": "code",
   "execution_count": null,
   "metadata": {},
   "outputs": [],
   "source": [
    "ray_client = ray_pilot.get_context()"
   ]
  },
  {
   "cell_type": "code",
   "execution_count": null,
   "metadata": {},
   "outputs": [],
   "source": [
    "\n",
    "# create a remote function\n",
    "@ray.remote\n",
    "def f(x):\n",
    "    return x * x\n",
    "\n",
    "with ray_client:\n",
    "    # call the remote function ten times in parallel\n",
    "    # and return the results as a list\n",
    "    print(ray.get([f.remote(i) for i in range(10)]))"
   ]
  },
  {
   "cell_type": "markdown",
   "metadata": {},
   "source": [
    "# Shutdown Cluster"
   ]
  },
  {
   "cell_type": "code",
   "execution_count": null,
   "metadata": {},
   "outputs": [],
   "source": [
    "ray_pilot.cancel()"
   ]
  }
 ],
 "metadata": {
  "kernelspec": {
   "display_name": "pilot-quantum",
   "language": "python",
   "name": "python3"
  },
  "language_info": {
   "codemirror_mode": {
    "name": "ipython",
    "version": 3
   },
   "file_extension": ".py",
   "mimetype": "text/x-python",
   "name": "python",
   "nbconvert_exporter": "python",
   "pygments_lexer": "ipython3",
   "version": "3.10.12"
  }
 },
 "nbformat": 4,
 "nbformat_minor": 2
}
