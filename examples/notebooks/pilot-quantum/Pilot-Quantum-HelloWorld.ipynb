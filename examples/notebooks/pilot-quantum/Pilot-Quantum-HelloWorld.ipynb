{
 "cells": [
  {
   "attachments": {},
   "cell_type": "markdown",
   "metadata": {},
   "source": [
    "# Getting Started with Pilot-Streaming and Quantum Computing (on local environment or remote VM via ssh)\n",
    "\n",
    "In the first step we need to import all required packages and modules into the Python Path"
   ]
  },
  {
   "attachments": {},
   "cell_type": "markdown",
   "metadata": {},
   "source": [
    "Pilot-Streaming can be used to manage the Dask and Kafka environments both in the cloud and on the edge. \n",
    "\n",
    "\n",
    "\n",
    "`resource`: URL of the Local Resource Manager. Examples:\n",
    "\n",
    "* `slurm://localhost`: Submit to local SLURM resource manager, e.g. on master node of Wrangler or Stampede\n",
    "* `slurm+ssh://login1.wrangler.tacc.utexas.edu`: Submit to Wrangler master node SLURM via SSH (e.g. on node running a job)\n",
    "* `os://` Openstack\n",
    "* `ec2://` EC2\n",
    "\n",
    "\n",
    "`type:` The `type` attributes specifies the cluster environment. It can be: `Spark`, `Dask` or `Kafka`.\n",
    "\n",
    "***For standard task-level parallelism `Dask` is recommended.***\n",
    "\n",
    "\n",
    "Depending on the resource there might be other configurations necessary, e.g. to ensure that the correct subnet is used the Spark driver can be configured using various environment variables:   os.environ[\"SPARK_LOCAL_IP\"]='129.114.58.2'\n",
    "\n"
   ]
  },
  {
   "cell_type": "code",
   "execution_count": 24,
   "metadata": {},
   "outputs": [],
   "source": [
    "# Pilot-Streaming\n",
    "import os, sys\n",
    "sys.path.insert(0, os.path.abspath('../..'))\n",
    "import distributed\n",
    "import json\n",
    "import pilot.streaming\n",
    "import getpass\n",
    "import socket\n",
    "import logging\n",
    "sys.modules['pilot.streaming']\n",
    "\n",
    "#RESOURCE_URL_HPC=\"slurm+ssh://login4.stampede2.tacc.utexas.edu\"\n",
    "RESOURCE_URL_HPC=\"ssh://localhost\"\n",
    "WORKING_DIRECTORY=os.path.join(os.environ[\"HOME\"], \"work\")\n"
   ]
  },
  {
   "attachments": {},
   "cell_type": "markdown",
   "metadata": {},
   "source": [
    "# 1. Dask on local machine"
   ]
  },
  {
   "cell_type": "code",
   "execution_count": 25,
   "metadata": {
    "pycharm": {
     "name": "#%%\n"
    }
   },
   "outputs": [],
   "source": [
    "pilot_compute_description_dask = {\n",
    "    \"resource\":\"ssh://{}@localhost\".format(getpass.getuser()),\n",
    "    \"working_directory\": os.path.join(os.path.expanduser(\"~\"), \"work\"),\n",
    "    \"number_cores\": 48,\n",
    "    \"queue\": \"normal\",\n",
    "    \"walltime\": 59,\n",
    "    \"type\":\"dask\"\n",
    "}"
   ]
  },
  {
   "cell_type": "code",
   "execution_count": null,
   "metadata": {},
   "outputs": [],
   "source": [
    "##%%time\n",
    "dask_pilot = pilot.streaming.PilotComputeService.create_pilot(pilot_compute_description_dask)\n",
    "dask_pilot.wait()\n",
    "dask_pilot.get_details()"
   ]
  },
  {
   "cell_type": "markdown",
   "metadata": {
    "collapsed": false
   },
   "source": [
    "## Test edge dask behind firewall"
   ]
  },
  {
   "cell_type": "code",
   "execution_count": 27,
   "metadata": {
    "pycharm": {
     "name": "#%%\n"
    }
   },
   "outputs": [
    {
     "name": "stderr",
     "output_type": "stream",
     "text": [
      "12/27/2022 12:04:11 PM - root - DEBUG - Results of scheduler startup file check: True\n",
      "12/27/2022 12:04:11 PM - asyncio - DEBUG - Using selector: KqueueSelector\n"
     ]
    },
    {
     "data": {
      "text/html": [
       "<div style=\"\">\n",
       "    <div>\n",
       "        <div style=\"width: 24px; height: 24px; background-color: #FFF7E5; border: 3px solid #FF6132; border-radius: 5px; position: absolute;\"> </div>\n",
       "        <div style=\"margin-left: 48px;\">\n",
       "            <h3 style=\"margin-bottom: 0px;\">Scheduler</h3>\n",
       "            <p style=\"color: #9D9D9D; margin-bottom: 0px;\">Scheduler-a1ce4cc5-df17-45c2-9621-0c92bbd90fc9</p>\n",
       "            <table style=\"width: 100%; text-align: left;\">\n",
       "                <tr>\n",
       "                    <td style=\"text-align: left;\">\n",
       "                        <strong>Comm:</strong> tcp://192.168.0.100:49418\n",
       "                    </td>\n",
       "                    <td style=\"text-align: left;\">\n",
       "                        <strong>Workers:</strong> 0\n",
       "                    </td>\n",
       "                </tr>\n",
       "                <tr>\n",
       "                    <td style=\"text-align: left;\">\n",
       "                        <strong>Dashboard:</strong> <a href=\"http://192.168.0.100:49417/status\" target=\"_blank\">http://192.168.0.100:49417/status</a>\n",
       "                    </td>\n",
       "                    <td style=\"text-align: left;\">\n",
       "                        <strong>Total threads:</strong> 0\n",
       "                    </td>\n",
       "                </tr>\n",
       "                <tr>\n",
       "                    <td style=\"text-align: left;\">\n",
       "                        <strong>Started:</strong> Just now\n",
       "                    </td>\n",
       "                    <td style=\"text-align: left;\">\n",
       "                        <strong>Total memory:</strong> 0 B\n",
       "                    </td>\n",
       "                </tr>\n",
       "            </table>\n",
       "        </div>\n",
       "    </div>\n",
       "\n",
       "    <details style=\"margin-left: 48px;\">\n",
       "        <summary style=\"margin-bottom: 20px;\">\n",
       "            <h3 style=\"display: inline;\">Workers</h3>\n",
       "        </summary>\n",
       "\n",
       "        \n",
       "\n",
       "    </details>\n",
       "</div>"
      ],
      "text/plain": [
       "{'type': 'Scheduler',\n",
       " 'id': 'Scheduler-a1ce4cc5-df17-45c2-9621-0c92bbd90fc9',\n",
       " 'address': 'tcp://192.168.0.100:49418',\n",
       " 'services': {'dashboard': 49417},\n",
       " 'started': 1672139049.903553,\n",
       " 'workers': {}}"
      ]
     },
     "execution_count": 27,
     "metadata": {},
     "output_type": "execute_result"
    }
   ],
   "source": [
    "dask_client  = distributed.Client(dask_pilot.get_details()['master_url'])\n",
    "#dask_client  = distributed.Client()\n",
    "dask_client.scheduler_info()"
   ]
  },
  {
   "cell_type": "code",
   "execution_count": 28,
   "metadata": {},
   "outputs": [
    {
     "data": {
      "text/plain": [
       "[0, 1, 4, 9, 16, 25, 36, 49, 64, 81]"
      ]
     },
     "execution_count": 28,
     "metadata": {},
     "output_type": "execute_result"
    }
   ],
   "source": [
    "dask_client.gather(dask_client.map(lambda a: a*a, range(10)))"
   ]
  },
  {
   "cell_type": "code",
   "execution_count": 29,
   "metadata": {
    "pycharm": {
     "name": "#%%\n"
    }
   },
   "outputs": [
    {
     "data": {
      "text/plain": [
       "['macbook',\n",
       " 'macbook',\n",
       " 'macbook',\n",
       " 'macbook',\n",
       " 'macbook',\n",
       " 'macbook',\n",
       " 'macbook',\n",
       " 'macbook',\n",
       " 'macbook',\n",
       " 'macbook']"
      ]
     },
     "execution_count": 29,
     "metadata": {},
     "output_type": "execute_result"
    }
   ],
   "source": [
    "dask_client.gather(dask_client.map(lambda a: socket.gethostname(), range(10)))"
   ]
  },
  {
   "attachments": {},
   "cell_type": "markdown",
   "metadata": {},
   "source": [
    "# Create simple quantum circuit for simulation\n",
    "\n",
    "Requirements:\n",
    "\n",
    "        pip install pennylane "
   ]
  },
  {
   "cell_type": "code",
   "execution_count": 30,
   "metadata": {},
   "outputs": [],
   "source": [
    "import pennylane as qml\n",
    "from timeit import default_timer as timer\n",
    "\n",
    "\n",
    "def run_circuit():\n",
    "    wires = 4\n",
    "    layers = 1\n",
    "    num_runs = 50\n",
    "    GPUs = 1\n",
    "\n",
    "    dev = qml.device('default.qubit', wires=wires, shots=None)\n",
    "\n",
    "    @qml.qnode(dev)\n",
    "    def circuit(parameters):\n",
    "        qml.StronglyEntanglingLayers(weights=parameters, wires=range(wires))\n",
    "        return [qml.expval(qml.PauliZ(i)) for i in range(wires)]\n",
    "\n",
    "    shape = qml.StronglyEntanglingLayers.shape(n_layers=layers, n_wires=wires)\n",
    "    weights = qml.numpy.random.random(size=shape)\n",
    "    val = circuit(weights)\n",
    "    return val"
   ]
  },
  {
   "cell_type": "code",
   "execution_count": 31,
   "metadata": {},
   "outputs": [
    {
     "data": {
      "text/plain": [
       "[array([0.39116895, 0.55268237, 0.34928422, 0.31240458]),\n",
       " array([0.49618673, 0.62145163, 0.43799797, 0.41511899]),\n",
       " array([0.40579505, 0.7561093 , 0.50686487, 0.39688098]),\n",
       " array([0.56276997, 0.79791631, 0.72717203, 0.51695379]),\n",
       " array([0.39395371, 0.99843012, 0.66850593, 0.393824  ]),\n",
       " array([0.48526631, 0.44611991, 0.44565011, 0.39794519]),\n",
       " array([0.76769033, 0.71596752, 0.56223612, 0.55378307]),\n",
       " array([0.556863  , 0.8163597 , 0.55179448, 0.54099155]),\n",
       " array([0.489417  , 0.45852117, 0.43769538, 0.28793255]),\n",
       " array([0.63178445, 0.93206321, 0.69866833, 0.58899336])]"
      ]
     },
     "execution_count": 31,
     "metadata": {},
     "output_type": "execute_result"
    }
   ],
   "source": [
    "dask_client.gather(dask_client.map(lambda a: run_circuit(), range(10)))"
   ]
  }
 ],
 "metadata": {
  "kernelspec": {
   "display_name": "pilot-quantum",
   "language": "python",
   "name": "python3"
  },
  "language_info": {
   "codemirror_mode": {
    "name": "ipython",
    "version": 3
   },
   "file_extension": ".py",
   "mimetype": "text/x-python",
   "name": "python",
   "nbconvert_exporter": "python",
   "pygments_lexer": "ipython3",
   "version": "3.10.8"
  },
  "toc": {
   "toc_cell": false,
   "toc_number_sections": true,
   "toc_threshold": 6,
   "toc_window_display": false
  },
  "vscode": {
   "interpreter": {
    "hash": "0342e1da7ac76b2604e27650530c2e6a8fe0140d340bf69375133e397d1f5139"
   }
  }
 },
 "nbformat": 4,
 "nbformat_minor": 4
}
