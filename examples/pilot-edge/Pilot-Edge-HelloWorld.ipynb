{
 "cells": [
  {
   "cell_type": "markdown",
   "metadata": {},
   "source": [
    "# Getting Started with Pilot-Streaming and Edge on LRZ (Jetstream/TACC WIP)\n",
    "\n",
    "In the first step we need to import all required packages and modules into the Python Path"
   ]
  },
  {
   "cell_type": "markdown",
   "metadata": {},
   "source": [
    "Pilot-Streaming can be used to manage the Dask and Kafka environments both in the cloud and on the edge. \n",
    "\n",
    "\n",
    "\n",
    "`resource`: URL of the Local Resource Manager. Examples:\n",
    "\n",
    "* `slurm://localhost`: Submit to local SLURM resource manager, e.g. on master node of Wrangler or Stampede\n",
    "* `slurm+ssh://login1.wrangler.tacc.utexas.edu`: Submit to Wrangler master node SLURM via SSH (e.g. on node running a job)\n",
    "* `os://` Openstack\n",
    "* `ec2://` EC2\n",
    "\n",
    "\n",
    "`type:` The `type` attributes specifies the cluster environment. It can be: `Spark`, `Dask` or `Kafka`.\n",
    "\n",
    "\n",
    "Depending on the resource there might be other configurations necessary, e.g. to ensure that the correct subnet is used the Spark driver can be configured using various environment variables:   os.environ[\"SPARK_LOCAL_IP\"]='129.114.58.2'\n",
    "\n"
   ]
  },
  {
   "cell_type": "code",
   "execution_count": null,
   "metadata": {},
   "outputs": [],
   "source": [
    "# Pilot-Streaming\n",
    "import os, sys\n",
    "import distributed\n",
    "import json\n",
    "import pilot.streaming\n",
    "import getpass\n",
    "import socket\n",
    "import pykafka\n",
    "\n",
    "#configure loggin\n",
    "import logging\n",
    "logging.getLogger().setLevel(logging.DEBUG)\n",
    "logging.getLogger(\"stevedore.extension\").setLevel(logging.CRITICAL)\n",
    "logging.getLogger(\"keystoneauth\").setLevel(logging.CRITICAL)\n",
    "logging.getLogger(\"urllib3.connectionpool\").setLevel(logging.CRITICAL)\n",
    "logging.getLogger(\"asyncio\").setLevel(logging.CRITICAL)\n",
    "\n",
    "sys.modules['pilot.streaming']\n",
    "\n",
    "RESOURCE_URL_HPC=\"slurm+ssh://login4.stampede2.tacc.utexas.edu\"\n",
    "WORKING_DIRECTORY=os.path.join(os.environ[\"HOME\"], \"work\")\n",
    "\n",
    "#RESOURCE_URL_EDGE=\"ssh://js-17-136.jetstream-cloud.org\"\n",
    "RESOURCE_URL_EDGE=\"os://cc.lrz.de\"\n",
    "#RESOURCE_URL_EDGE=\"ssh://localhost\"\n",
    "WORKING_DIRECTORY_EDGE=\"/home/ubuntu\""
   ]
  },
  {
   "cell_type": "markdown",
   "metadata": {},
   "source": [
    "# 1. Dask on LRZ (pre-launched VM)\n",
    "\n",
    "## 1.1. Producer"
   ]
  },
  {
   "cell_type": "code",
   "execution_count": null,
   "metadata": {
    "pycharm": {
     "name": "#%%\n"
    }
   },
   "outputs": [],
   "source": [
    "pilot_compute_description_dask_producer = json.load(open(\"config/openstack_description_lrz_producer.json\", \"r\"))\n",
    "pilot_compute_description_dask_producer\n",
    "#pilot_compute_description[\"os_password\"] = getpass.getpass()\n",
    "pilot_compute_description_dask_producer[\"os_password\"] = open(\"../../../.password\", \"r\").read().strip()\n",
    "pilot_compute_description_dask_producer[\"type\"] = \"dask\""
   ]
  },
  {
   "cell_type": "code",
   "execution_count": null,
   "metadata": {},
   "outputs": [],
   "source": [
    "%%time\n",
    "dask_pilot_producer = pilot.streaming.PilotComputeService.create_pilot(pilot_compute_description_dask_producer)\n",
    "dask_pilot_producer.wait()\n",
    "dask_pilot_producer.get_details()"
   ]
  },
  {
   "cell_type": "markdown",
   "metadata": {
    "collapsed": false
   },
   "source": [
    "## Test edge dask behind firewall"
   ]
  },
  {
   "cell_type": "code",
   "execution_count": null,
   "metadata": {
    "pycharm": {
     "name": "#%%\n"
    }
   },
   "outputs": [],
   "source": [
    "dask_client_producer  = distributed.Client(dask_pilot_producer.get_details()['master_url'])\n",
    "#dask_client  = distributed.Client()\n",
    "dask_client_producer.scheduler_info()"
   ]
  },
  {
   "cell_type": "code",
   "execution_count": null,
   "metadata": {},
   "outputs": [],
   "source": [
    "dask_client_producer.gather(dask_client_producer.map(lambda a: a*a, range(10)))"
   ]
  },
  {
   "cell_type": "code",
   "execution_count": null,
   "metadata": {
    "pycharm": {
     "name": "#%%\n"
    }
   },
   "outputs": [],
   "source": [
    "dask_client_producer.gather(dask_client_producer.map(lambda a: socket.gethostname(), range(10)))"
   ]
  },
  {
   "cell_type": "markdown",
   "metadata": {},
   "source": [
    "## 1.2 Consumer"
   ]
  },
  {
   "cell_type": "code",
   "execution_count": null,
   "metadata": {
    "pycharm": {
     "name": "#%%\n"
    }
   },
   "outputs": [],
   "source": [
    "pilot_compute_description_dask_consumer = json.load(open(\"config/openstack_description_lrz_consumer.json\", \"r\"))\n",
    "pilot_compute_description_dask_consumer\n",
    "pilot_compute_description_dask_consumer[\"os_password\"] = open(\"../../../.password\", \"r\").read().strip()\n",
    "pilot_compute_description_dask_consumer[\"type\"] = \"dask\""
   ]
  },
  {
   "cell_type": "code",
   "execution_count": null,
   "metadata": {
    "pycharm": {
     "name": "#%%\n"
    }
   },
   "outputs": [],
   "source": [
    "%%time\n",
    "dask_pilot_consumer = pilot.streaming.PilotComputeService.create_pilot(pilot_compute_description_dask_consumer)\n",
    "dask_pilot_consumer.wait()\n",
    "dask_pilot_consumer.get_details()"
   ]
  },
  {
   "cell_type": "code",
   "execution_count": null,
   "metadata": {
    "pycharm": {
     "name": "#%%\n"
    }
   },
   "outputs": [],
   "source": [
    "dask_client_consumer  = distributed.Client(dask_pilot_consumer.get_details()['master_url'])\n",
    "#dask_client  = distributed.Client()\n",
    "dask_client_consumer.scheduler_info()"
   ]
  },
  {
   "cell_type": "code",
   "execution_count": null,
   "metadata": {
    "pycharm": {
     "name": "#%%\n"
    }
   },
   "outputs": [],
   "source": [
    "dask_client_consumer.gather(dask_client_consumer.map(lambda a: a*a, range(10)))"
   ]
  },
  {
   "cell_type": "markdown",
   "metadata": {
    "collapsed": false,
    "pycharm": {
     "name": "#%% md\n"
    }
   },
   "source": [
    "## Stop Cluster"
   ]
  },
  {
   "cell_type": "code",
   "execution_count": null,
   "metadata": {
    "pycharm": {
     "name": "#%%\n"
    }
   },
   "outputs": [],
   "source": [
    "dask_pilot_consumer.cancel()"
   ]
  },
  {
   "cell_type": "code",
   "execution_count": null,
   "metadata": {
    "pycharm": {
     "name": "#%%\n"
    }
   },
   "outputs": [],
   "source": [
    "dask_pilot_producer.cancel()"
   ]
  },
  {
   "cell_type": "markdown",
   "metadata": {},
   "source": [
    "# 2. Start Kafka Cluster\n"
   ]
  },
  {
   "cell_type": "code",
   "execution_count": null,
   "metadata": {
    "pycharm": {
     "name": "#%%\n"
    }
   },
   "outputs": [],
   "source": [
    "pilot_compute_description_kafka = json.load(open(\"config/openstack_description_lrz_kafka.json\", \"r\"))\n",
    "pilot_compute_description_kafka\n",
    "#pilot_compute_description[\"os_password\"] = getpass.getpass()\n",
    "pilot_compute_description_kafka[\"os_password\"] = open(\"../../../.password\", \"r\").read().strip()\n",
    "pilot_compute_description_kafka[\"type\"] = \"kafka\""
   ]
  },
  {
   "cell_type": "code",
   "execution_count": null,
   "metadata": {
    "pycharm": {
     "name": "#%%\n"
    }
   },
   "outputs": [],
   "source": [
    "%%time\n",
    "\n",
    "kafka_pilot = pilot.streaming.PilotComputeService.create_pilot(pilot_compute_description_kafka)\n",
    "kafka_pilot.wait()\n"
   ]
  },
  {
   "cell_type": "markdown",
   "metadata": {},
   "source": [
    "# 3. Start Stream Processing on Kafka/Dask"
   ]
  },
  {
   "cell_type": "code",
   "execution_count": null,
   "metadata": {
    "pycharm": {
     "name": "#%%\n"
    }
   },
   "outputs": [],
   "source": [
    "kafka_details = kafka_pilot.get_details()\n",
    "client = pykafka.KafkaClient(zookeeper_hosts=kafka_details[\"master_url\"])"
   ]
  },
  {
   "cell_type": "code",
   "execution_count": null,
   "metadata": {
    "pycharm": {
     "name": "#%%\n"
    }
   },
   "outputs": [],
   "source": []
  }
 ],
 "metadata": {
  "kernelspec": {
   "display_name": "Python 3",
   "language": "python",
   "name": "python3"
  },
  "language_info": {
   "codemirror_mode": {
    "name": "ipython",
    "version": 3
   },
   "file_extension": ".py",
   "mimetype": "text/x-python",
   "name": "python",
   "nbconvert_exporter": "python",
   "pygments_lexer": "ipython3",
   "version": "3.7.6"
  },
  "toc": {
   "toc_cell": false,
   "toc_number_sections": true,
   "toc_threshold": 6,
   "toc_window_display": false
  }
 },
 "nbformat": 4,
 "nbformat_minor": 4
}