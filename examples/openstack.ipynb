{
 "cells": [
  {
   "cell_type": "markdown",
   "metadata": {},
   "source": [
    "# OpenStack Example\n",
    "\n",
    "\n",
    "Installation Packages:\n",
    "\n",
    "    conda install -c conda-forge boto3  pykafka pyspark  dask distributed python-\n",
    "    confluent-kafka pexpect redis-py \n",
    "    conda install paramiko distributed\n",
    "    conda install -c conda-forge python-openstackclient\n",
    "    \n",
    "    \n",
    "https://iujetstream.atlassian.net/wiki/spaces/JWT/pages/730234884/Installing+the+Openstack+clients+on+Linux\n",
    "\n",
    "Rename and complete `openstack_description.json.template` to `openstack_description.json.`"
   ]
  },
  {
   "cell_type": "code",
   "execution_count": null,
   "metadata": {},
   "outputs": [],
   "source": [
    "import os, sys, json\n",
    "from cinderclient import client\n",
    "from keystoneauth1 import loading\n",
    "from keystoneauth1 import session\n",
    "import getpass\n",
    "import openstack\n",
    "from novaclient.client import Client"
   ]
  },
  {
   "cell_type": "code",
   "execution_count": null,
   "metadata": {},
   "outputs": [],
   "source": [
    "os_password = getpass.getpass()"
   ]
  },
  {
   "cell_type": "code",
   "execution_count": null,
   "metadata": {},
   "outputs": [],
   "source": [
    "os_description = json.load(open(\"openstack_description.json\", \"r\"))"
   ]
  },
  {
   "cell_type": "code",
   "execution_count": null,
   "metadata": {},
   "outputs": [],
   "source": [
    "loader = loading.get_plugin_loader('password')\n",
    "auth = loader.load_from_options(auth_url=os_description[\"os_auth_url\"],\n",
    "                                username=os_description[\"os_username\"],\n",
    "                                password=os_password,\n",
    "                                default_domain_name=os_description[\"os_user_domain\"],\n",
    "                                project_id=os_description[\"os_project_id\"])\n",
    "sess = session.Session(auth=auth)\n",
    "cinder = client.Client(3, session=sess)"
   ]
  },
  {
   "cell_type": "code",
   "execution_count": null,
   "metadata": {},
   "outputs": [],
   "source": [
    "sess"
   ]
  },
  {
   "cell_type": "code",
   "execution_count": null,
   "metadata": {},
   "outputs": [],
   "source": [
    "cinder = client.Client(3, session=sess)\n",
    "cinder.images.list()"
   ]
  },
  {
   "cell_type": "code",
   "execution_count": null,
   "metadata": {},
   "outputs": [],
   "source": [
    "conn = openstack.connection.Connection(session=sess)"
   ]
  },
  {
   "cell_type": "code",
   "execution_count": null,
   "metadata": {},
   "outputs": [],
   "source": [
    "conn.list_servers()"
   ]
  },
  {
   "cell_type": "code",
   "execution_count": null,
   "metadata": {},
   "outputs": [],
   "source": [
    "conn.create_server(name=os_description[\"os_name\"], \n",
    "                   image=os_description[\"os_image_id\"], \n",
    "                   flavor=os_description[\"os_instance_type\"], \n",
    "                   key_name=os_description[\"os_ssh_keyname\"],\n",
    "                   security_groups=[os_description[\"os_security_group\"]],\n",
    "                   auto_ip=True, \n",
    "                   ips=None, \n",
    "                   ip_pool=None, \n",
    "                   root_volume=None, \n",
    "                   terminate_volume=True, \n",
    "                   wait=False, \n",
    "                   timeout=180, \n",
    "                   reuse_ips=True, \n",
    "                   network=os_description[\"os_network\"], \n",
    "                   boot_from_volume=False, \n",
    "                   volume_size='20', \n",
    "                   boot_volume=None, \n",
    "                   volumes=None, \n",
    "                   nat_destination=None, \n",
    "                   group=None)\n"
   ]
  },
  {
   "cell_type": "code",
   "execution_count": null,
   "metadata": {},
   "outputs": [],
   "source": [
    "conn.list_servers()"
   ]
  },
  {
   "cell_type": "code",
   "execution_count": null,
   "metadata": {},
   "outputs": [],
   "source": []
  }
 ],
 "metadata": {
  "kernelspec": {
   "display_name": "Python 3",
   "language": "python",
   "name": "python3"
  },
  "language_info": {
   "codemirror_mode": {
    "name": "ipython",
    "version": 3
   },
   "file_extension": ".py",
   "mimetype": "text/x-python",
   "name": "python",
   "nbconvert_exporter": "python",
   "pygments_lexer": "ipython3",
   "version": "3.7.6"
  }
 },
 "nbformat": 4,
 "nbformat_minor": 4
}
