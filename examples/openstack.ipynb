{
 "cells": [
  {
   "cell_type": "markdown",
   "metadata": {},
   "source": [
    "# OpenStack Example\n",
    "\n",
    "\n",
    "Installation Packages:\n",
    "\n",
    "    conda install -c conda-forge boto3  pykafka pyspark  dask distributed python-\n",
    "    confluent-kafka pexpect redis-py \n",
    "    conda install paramiko distributed\n",
    "    conda install -c conda-forge python-openstackclient\n",
    "    \n",
    "    \n",
    "https://iujetstream.atlassian.net/wiki/spaces/JWT/pages/730234884/Installing+the+Openstack+clients+on+Linux\n",
    "\n",
    "Rename and complete `openstack_description.json.template` to `openstack_description.json.`"
   ]
  },
  {
   "cell_type": "code",
   "execution_count": null,
   "metadata": {},
   "outputs": [],
   "source": [
    "import os, sys, json\n",
    "from cinderclient import client\n",
    "from keystoneauth1 import loading\n",
    "from keystoneauth1 import session\n",
    "import getpass\n",
    "import openstack\n",
    "from novaclient.client import Client"
   ]
  },
  {
   "cell_type": "code",
   "execution_count": null,
   "metadata": {},
   "outputs": [],
   "source": [
    "os_password = getpass.getpass()"
   ]
  },
  {
   "cell_type": "code",
   "execution_count": 72,
   "metadata": {},
   "outputs": [],
   "source": [
    "os_description = json.load(open(\"openstack_description.json\", \"r\"))"
   ]
  },
  {
   "cell_type": "code",
   "execution_count": null,
   "metadata": {},
   "outputs": [],
   "source": [
    "loader = loading.get_plugin_loader('password')\n",
    "auth = loader.load_from_options(auth_url=os_description[\"os_auth_url\"],\n",
    "                                username=os_description[\"os_username\"],\n",
    "                                password=os_password,\n",
    "                                default_domain_name=os_description[\"os_user_domain\"],\n",
    "                                project_id=os_description[\"os_project_id\"])\n",
    "sess = session.Session(auth=auth)\n",
    "cinder = client.Client(3, session=sess)"
   ]
  },
  {
   "cell_type": "code",
   "execution_count": 57,
   "metadata": {},
   "outputs": [
    {
     "data": {
      "text/plain": [
       "<keystoneauth1.session.Session at 0x2b9b8e3793c8>"
      ]
     },
     "execution_count": 57,
     "metadata": {},
     "output_type": "execute_result"
    }
   ],
   "source": [
    "sess"
   ]
  },
  {
   "cell_type": "code",
   "execution_count": null,
   "metadata": {},
   "outputs": [],
   "source": [
    "cinder = client.Client(3, session=sess)\n",
    "cinder.images.list()"
   ]
  },
  {
   "cell_type": "code",
   "execution_count": 58,
   "metadata": {},
   "outputs": [],
   "source": [
    "conn = openstack.connection.Connection(session=sess)"
   ]
  },
  {
   "cell_type": "code",
   "execution_count": 67,
   "metadata": {},
   "outputs": [
    {
     "data": {
      "text/plain": [
       "[]"
      ]
     },
     "execution_count": 67,
     "metadata": {},
     "output_type": "execute_result"
    }
   ],
   "source": [
    "conn.list_servers()"
   ]
  },
  {
   "cell_type": "code",
   "execution_count": 73,
   "metadata": {},
   "outputs": [
    {
     "data": {
      "text/plain": [
       "Munch({'id': '10d3952f-7fb1-4b05-9fbd-2a590c1405d7', 'name': 'pilot-edge', 'flavor': {'id': '1'}, 'image': Munch({'id': '15e9a747-c41b-4688-b03d-ebf3c9aae4d8'}), 'block_device_mapping': {}, 'location': Munch({'cloud': 'iu.jetstream-cloud.org', 'region_name': None, 'zone': '', 'project': Munch({'id': '51642545533f4137a4d9bb5ce1bbaa1c', 'name': None, 'domain_id': None, 'domain_name': None})}), 'volumes': [], 'has_config_drive': False, 'host_id': '', 'progress': 0, 'disk_config': 'MANUAL', 'power_state': 0, 'task_state': 'scheduling', 'vm_state': 'building', 'launched_at': None, 'terminated_at': None, 'hypervisor_hostname': None, 'instance_name': None, 'user_data': None, 'host': None, 'hostname': None, 'kernel_id': None, 'launch_index': None, 'ramdisk_id': None, 'reservation_id': None, 'root_device_name': None, 'scheduler_hints': None, 'security_groups': [], 'created_at': '2020-05-31T16:20:45Z', 'accessIPv4': '', 'accessIPv6': '', 'addresses': {}, 'adminPass': '2NE267YrFCQ4', 'created': '2020-05-31T16:20:45Z', 'description': None, 'key_name': 'TACC', 'metadata': {}, 'networks': {}, 'personality': None, 'private_v4': '', 'public_v4': '', 'public_v6': '', 'server_groups': None, 'status': 'BUILD', 'updated': '2020-05-31T16:20:45Z', 'user_id': 'd64cd44dac92647da8a383bb80d46c9b26fe447f61ac6e497fb86506f6afd6e6', 'tags': None, 'interface_ip': '', 'properties': Munch({'OS-EXT-STS:task_state': 'scheduling', 'OS-EXT-STS:vm_state': 'building', 'OS-SRV-USG:launched_at': None, 'OS-DCF:diskConfig': 'MANUAL', 'OS-EXT-STS:power_state': 0, 'OS-EXT-AZ:availability_zone': '', 'OS-SRV-USG:terminated_at': None, 'os-extended-volumes:volumes_attached': []}), 'hostId': '', 'config_drive': '', 'project_id': '51642545533f4137a4d9bb5ce1bbaa1c', 'tenant_id': '51642545533f4137a4d9bb5ce1bbaa1c', 'region': None, 'cloud': 'iu.jetstream-cloud.org', 'az': '', 'OS-EXT-STS:task_state': 'scheduling', 'OS-EXT-STS:vm_state': 'building', 'OS-SRV-USG:launched_at': None, 'OS-DCF:diskConfig': 'MANUAL', 'OS-EXT-STS:power_state': 0, 'OS-EXT-AZ:availability_zone': '', 'OS-SRV-USG:terminated_at': None, 'os-extended-volumes:volumes_attached': []})"
      ]
     },
     "execution_count": 73,
     "metadata": {},
     "output_type": "execute_result"
    }
   ],
   "source": [
    "conn.create_server(name=os_description[\"os_name\"], \n",
    "                   image=os_description[\"os_image_id\"], \n",
    "                   flavor=os_description[\"os_instance_type\"], \n",
    "                   key_name=os_description[\"os_ssh_keyname\"],\n",
    "                   security_groups=[os_description[\"os_security_group\"]],\n",
    "                   auto_ip=True, \n",
    "                   ips=None, \n",
    "                   ip_pool=None, \n",
    "                   root_volume=None, \n",
    "                   terminate_volume=True, \n",
    "                   wait=False, \n",
    "                   timeout=180, \n",
    "                   reuse_ips=True, \n",
    "                   network=os_description[\"os_network\"], \n",
    "                   boot_from_volume=False, \n",
    "                   volume_size='20', \n",
    "                   boot_volume=None, \n",
    "                   volumes=None, \n",
    "                   nat_destination=None, \n",
    "                   group=None)\n"
   ]
  },
  {
   "cell_type": "code",
   "execution_count": 74,
   "metadata": {},
   "outputs": [
    {
     "data": {
      "text/plain": [
       "[Munch({'id': '10d3952f-7fb1-4b05-9fbd-2a590c1405d7', 'name': 'pilot-edge', 'flavor': Munch({'ephemeral': 0, 'ram': 2048, 'original_name': 'm1.tiny', 'vcpus': 1, 'extra_specs': {'authority': 'NSF'}, 'swap': 0, 'disk': 8}), 'image': Munch({'id': '15e9a747-c41b-4688-b03d-ebf3c9aae4d8'}), 'block_device_mapping': None, 'location': Munch({'cloud': 'iu.jetstream-cloud.org', 'region_name': None, 'zone': 'zone-r1', 'project': Munch({'id': '51642545533f4137a4d9bb5ce1bbaa1c', 'name': None, 'domain_id': None, 'domain_name': None})}), 'volumes': [], 'has_config_drive': False, 'host_id': '9b18409b6bfab9c88ece8a38affd6665c473e000662f1ee850d2398e', 'progress': 0, 'disk_config': 'MANUAL', 'power_state': 0, 'task_state': 'spawning', 'vm_state': 'building', 'launched_at': None, 'terminated_at': None, 'hypervisor_hostname': None, 'instance_name': None, 'user_data': None, 'host': None, 'hostname': None, 'kernel_id': None, 'launch_index': None, 'ramdisk_id': None, 'reservation_id': None, 'root_device_name': None, 'scheduler_hints': None, 'security_groups': [], 'created_at': '2020-05-31T16:20:45Z', 'accessIPv4': '', 'accessIPv6': '', 'addresses': Munch({}), 'adminPass': None, 'created': '2020-05-31T16:20:45Z', 'description': 'pilot-edge', 'key_name': 'TACC', 'metadata': Munch({}), 'networks': {}, 'personality': None, 'private_v4': '', 'public_v4': '', 'public_v6': '', 'server_groups': None, 'status': 'BUILD', 'updated': '2020-05-31T16:20:50Z', 'user_id': 'd64cd44dac92647da8a383bb80d46c9b26fe447f61ac6e497fb86506f6afd6e6', 'tags': [], 'interface_ip': '', 'properties': Munch({'os-extended-volumes:volumes_attached': [], 'OS-EXT-AZ:availability_zone': 'zone-r1', 'OS-EXT-SRV-ATTR:host': None, 'OS-DCF:diskConfig': 'MANUAL', 'host_status': None, 'OS-EXT-SRV-ATTR:hostname': None, 'OS-EXT-SRV-ATTR:hypervisor_hostname': None, 'OS-EXT-SRV-ATTR:instance_name': None, 'locked': False, 'OS-EXT-SRV-ATTR:kernel_id': None, 'OS-EXT-SRV-ATTR:launch_index': None, 'OS-SRV-USG:launched_at': None, 'OS-EXT-STS:power_state': 0, 'OS-EXT-SRV-ATTR:ramdisk_id': None, 'OS-EXT-SRV-ATTR:reservation_id': None, 'OS-EXT-SRV-ATTR:root_device_name': None, 'OS-SCH-HNT:scheduler_hints': None, 'OS-EXT-STS:task_state': 'spawning', 'OS-SRV-USG:terminated_at': None, 'trusted_image_certificates': None, 'OS-EXT-SRV-ATTR:user_data': None, 'OS-EXT-STS:vm_state': 'building'}), 'hostId': '9b18409b6bfab9c88ece8a38affd6665c473e000662f1ee850d2398e', 'config_drive': '', 'project_id': '51642545533f4137a4d9bb5ce1bbaa1c', 'tenant_id': '51642545533f4137a4d9bb5ce1bbaa1c', 'region': None, 'cloud': 'iu.jetstream-cloud.org', 'az': 'zone-r1', 'os-extended-volumes:volumes_attached': [], 'OS-EXT-AZ:availability_zone': 'zone-r1', 'OS-EXT-SRV-ATTR:host': None, 'OS-DCF:diskConfig': 'MANUAL', 'host_status': None, 'OS-EXT-SRV-ATTR:hostname': None, 'OS-EXT-SRV-ATTR:hypervisor_hostname': None, 'OS-EXT-SRV-ATTR:instance_name': None, 'locked': False, 'OS-EXT-SRV-ATTR:kernel_id': None, 'OS-EXT-SRV-ATTR:launch_index': None, 'OS-SRV-USG:launched_at': None, 'OS-EXT-STS:power_state': 0, 'OS-EXT-SRV-ATTR:ramdisk_id': None, 'OS-EXT-SRV-ATTR:reservation_id': None, 'OS-EXT-SRV-ATTR:root_device_name': None, 'OS-SCH-HNT:scheduler_hints': None, 'OS-EXT-STS:task_state': 'spawning', 'OS-SRV-USG:terminated_at': None, 'trusted_image_certificates': None, 'OS-EXT-SRV-ATTR:user_data': None, 'OS-EXT-STS:vm_state': 'building'})]"
      ]
     },
     "execution_count": 74,
     "metadata": {},
     "output_type": "execute_result"
    }
   ],
   "source": [
    "conn.list_servers()"
   ]
  },
  {
   "cell_type": "code",
   "execution_count": null,
   "metadata": {},
   "outputs": [],
   "source": []
  }
 ],
 "metadata": {
  "kernelspec": {
   "display_name": "Python 3",
   "language": "python",
   "name": "python3"
  },
  "language_info": {
   "codemirror_mode": {
    "name": "ipython",
    "version": 3
   },
   "file_extension": ".py",
   "mimetype": "text/x-python",
   "name": "python",
   "nbconvert_exporter": "python",
   "pygments_lexer": "ipython3",
   "version": "3.7.6"
  }
 },
 "nbformat": 4,
 "nbformat_minor": 4
}
