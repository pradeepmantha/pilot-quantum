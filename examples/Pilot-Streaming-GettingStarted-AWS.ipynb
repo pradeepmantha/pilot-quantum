{
 "cells": [
  {
   "cell_type": "markdown",
   "metadata": {},
   "source": [
    "# Getting Started with Pilot-Streaming on AWS\n",
    "\n",
    "In the first step we need to import all required packages and modules into the Python Path"
   ]
  },
  {
   "cell_type": "markdown",
   "metadata": {},
   "source": [
    "The Pilot-Compute Description is a simple key/value style description of the cluster environment that should be started. "
   ]
  },
  {
   "cell_type": "code",
   "execution_count": null,
   "metadata": {
    "ExecuteTime": {
     "end_time": "2017-12-28T17:59:21.386383Z",
     "start_time": "2017-12-28T17:59:21.364643Z"
    }
   },
   "outputs": [],
   "source": [
    "# System Libraries\n",
    "import sys, os\n",
    "sys.path.append(\"..\")\n",
    "import pandas as pd\n",
    "\n",
    "## logging\n",
    "import logging\n",
    "logging.basicConfig(level=logging.DEBUG)\n",
    "logging.getLogger().setLevel(logging.ERROR)\n",
    "logging.getLogger(\"py4j\").setLevel(logging.ERROR)\n",
    "import json\n",
    "import pyspark\n",
    "import os\n",
    "import boto3\n",
    "boto3.setup_default_session(profile_name='dev')\n",
    "    \n",
    "# Pilot-Streaming\n",
    "import pilot.streaming\n",
    "sys.modules['pilot.streaming']"
   ]
  },
  {
   "cell_type": "markdown",
   "metadata": {},
   "source": [
    "# 1. Kinesis"
   ]
  },
  {
   "cell_type": "code",
   "execution_count": null,
   "metadata": {
    "ExecuteTime": {
     "end_time": "2017-12-28T18:00:04.950564Z",
     "start_time": "2017-12-28T17:59:22.095228Z"
    },
    "run_control": {
     "frozen": false,
     "read_only": false
    }
   },
   "outputs": [],
   "source": [
    "pilot_compute_description = {\n",
    "    \"resource\":\"kinesis://awscloud.com\",\n",
    "    \"number_cores\": 1,\n",
    "    \"type\":\"kinesis\"\n",
    "}"
   ]
  },
  {
   "cell_type": "markdown",
   "metadata": {},
   "source": [
    "Start Spark Cluster and Wait for Startup Completion"
   ]
  },
  {
   "cell_type": "code",
   "execution_count": null,
   "metadata": {},
   "outputs": [],
   "source": [
    "%%time\n",
    "kinesis_pilot = pilot.streaming.PilotComputeService.create_pilot(pilot_compute_description)\n",
    "kinesis_pilot.wait()"
   ]
  },
  {
   "cell_type": "code",
   "execution_count": null,
   "metadata": {},
   "outputs": [],
   "source": [
    "kinesis_pilot.get_details()"
   ]
  },
  {
   "cell_type": "code",
   "execution_count": null,
   "metadata": {},
   "outputs": [],
   "source": [
    "kinesis_pilot.get_id()"
   ]
  },
  {
   "cell_type": "code",
   "execution_count": null,
   "metadata": {},
   "outputs": [],
   "source": [
    "kinesis_client = boto3.client('kinesis', region_name='us-east-1')\n",
    "put_response = kinesis_client.put_record(\n",
    "                        StreamName=kinesis_pilot.get_id().split(\"/\")[1],\n",
    "                        Data=\"Hello World\",\n",
    "                        PartitionKey=\"A\")"
   ]
  },
  {
   "cell_type": "markdown",
   "metadata": {},
   "source": [
    "# 2. Lambda"
   ]
  },
  {
   "cell_type": "code",
   "execution_count": null,
   "metadata": {},
   "outputs": [],
   "source": [
    "def lambda_handler(event, context):\n",
    "    import base64\n",
    "    print(\"Lambda Function called\")\n",
    "    for record in event['Records']:\n",
    "        #Kinesis data is base64 encoded so decode here\n",
    "        payload=base64.b64decode(record[\"kinesis\"][\"data\"])\n",
    "        print(\"Decoded payload: \" + str(payload))"
   ]
  },
  {
   "cell_type": "code",
   "execution_count": null,
   "metadata": {},
   "outputs": [],
   "source": [
    "pilot_compute_description = {\n",
    "    \"resource\":\"kinesis://awscloud.com\",\n",
    "    \"number_cores\": 1,\n",
    "    \"lambda_input_data\": kinesis_pilot.get_id(),\n",
    "    \"lambda_function\": lambda_handler,\n",
    "    \"type\":\"lambda\"\n",
    "}"
   ]
  },
  {
   "cell_type": "code",
   "execution_count": null,
   "metadata": {},
   "outputs": [],
   "source": [
    "%%time\n",
    "lambda_pilot = pilot.streaming.PilotComputeService.create_pilot(pilot_compute_description)\n",
    "lambda_pilot.wait()"
   ]
  },
  {
   "cell_type": "code",
   "execution_count": null,
   "metadata": {},
   "outputs": [],
   "source": [
    "lambda_pilot.get_details()"
   ]
  },
  {
   "cell_type": "code",
   "execution_count": null,
   "metadata": {},
   "outputs": [],
   "source": [
    "def lambda_handler(event, context):\n",
    "    import base64\n",
    "    print(\"Lambda Function called Version 2\")\n",
    "    for record in event['Records']:\n",
    "        #Kinesis data is base64 encoded so decode here\n",
    "        payload=base64.b64decode(record[\"kinesis\"][\"data\"])\n",
    "        print(\"Decoded payload: \" + str(payload))\n",
    "        \n",
    "lambda_pilot.submit(lambda_handler) #update function inside of Lambda"
   ]
  },
  {
   "cell_type": "code",
   "execution_count": null,
   "metadata": {},
   "outputs": [],
   "source": [
    "kinesis_pilot.cancel()\n",
    "lambda_pilot.cancel()"
   ]
  },
  {
   "cell_type": "markdown",
   "metadata": {},
   "source": [
    "# 3. EC2"
   ]
  },
  {
   "cell_type": "code",
   "execution_count": null,
   "metadata": {},
   "outputs": [],
   "source": [
    "import boto3\n",
    "import json\n",
    "boto3.setup_default_session(profile_name='dev')\n",
    "ec2_client = boto3.resource('ec2', region_name='us-east-1')\n",
    "\n",
    "#{\n",
    "#    \"resource\":\"ec2://awscloud.com\",\n",
    "#    \"number_cores\" : 1,\n",
    "#    \"ec2_ssh_username\":\"ubuntu\",\n",
    "#    \"ec2_ssh_keyname\":\"xxx\",\n",
    "#    \"ec2_ssh_keyfile\":\"\",    \n",
    "#    \"ec2_vpc_id\" : \"xxx\",   \n",
    "#    \"ec2_subnet_id\": \"xxx\",\n",
    "#    \"ec2_image_id\" : \"xxx\", \n",
    "#    \"ec2_security_group\": \"xxxx\",\n",
    "#    \"ec2_instance_type\" : \"t2.nano\",\n",
    "#    \"ec2_name\": \"xxx\", \n",
    "#    \"type\":\"ec2\"\n",
    "#}\n",
    "\n",
    "ec2_description = json.load(open(\"aws_description.json\", \"r\"))\n",
    "\n",
    "number_vms=1\n",
    "\n",
    "ec2_instances = ec2_client.create_instances(ImageId=ec2_description[\"ec2_image_id\"],\n",
    "                                            InstanceType=ec2_description[\"ec2_instance_type\"],\n",
    "                                            KeyName=ec2_description[\"ec2_ssh_keyname\"],\n",
    "                                            #SubnetId=ec2_description[\"ec2_subnet_id\"],\n",
    "                                            #SecurityGroupIds=[ec2_description[\"ec2_security_group\"]],\n",
    "                                            TagSpecifications=[{'ResourceType': 'instance',\n",
    "                                                                'Tags': [{\"Key\":\"Name\", \n",
    "                                                                          \"Value\":ec2_description[\"ec2_name\"]}]}],\n",
    "                                            NetworkInterfaces=[{'AssociatePublicIpAddress': True, \n",
    "                                                                'DeviceIndex': 0,\n",
    "                                                                'SubnetId': ec2_description[\"ec2_subnet_id\"],\n",
    "                                                                'Groups': [ec2_description[\"ec2_security_group\"]]}],\n",
    "                                            BlockDeviceMappings=[{\n",
    "                                                        'DeviceName': '/dev/sda1',\n",
    "                                                        'Ebs': {'VolumeSize': 30,\n",
    "                                                                'VolumeType': 'gp2'}}],\n",
    "                                            MinCount=number_vms, \n",
    "                                            MaxCount=number_vms)"
   ]
  },
  {
   "cell_type": "code",
   "execution_count": null,
   "metadata": {},
   "outputs": [],
   "source": [
    "for i in ec2_instances:\n",
    "    i.wait_until_running()\n",
    "    i.load()\n",
    "    print(\"ID: {}, State: {}, IP: {} \".format(i.id, i.state['Name'], i.private_ip_address))"
   ]
  },
  {
   "cell_type": "code",
   "execution_count": null,
   "metadata": {},
   "outputs": [],
   "source": [
    "for i in ec2_instances:\n",
    "    i.terminate()"
   ]
  },
  {
   "cell_type": "code",
   "execution_count": null,
   "metadata": {},
   "outputs": [],
   "source": [
    "for i in ec2_client.instances.all():\n",
    "    print(i.state)"
   ]
  },
  {
   "cell_type": "code",
   "execution_count": null,
   "metadata": {},
   "outputs": [],
   "source": []
  },
  {
   "cell_type": "code",
   "execution_count": null,
   "metadata": {},
   "outputs": [],
   "source": [
    "# Boto 3\n",
    "for status in ec2_client.meta.client.describe_instance_status()['InstanceStatuses']:\n",
    "    print(status)"
   ]
  },
  {
   "cell_type": "markdown",
   "metadata": {},
   "source": [
    "# Pilot-API"
   ]
  },
  {
   "cell_type": "code",
   "execution_count": null,
   "metadata": {
    "ExecuteTime": {
     "end_time": "2017-12-28T17:59:21.386383Z",
     "start_time": "2017-12-28T17:59:21.364643Z"
    }
   },
   "outputs": [],
   "source": [
    "# System Libraries\n",
    "import sys, os\n",
    "sys.path.append(\"..\")\n",
    "import pandas as pd\n",
    "\n",
    "## logging\n",
    "import logging\n",
    "logging.basicConfig(level=logging.DEBUG)\n",
    "logging.getLogger().setLevel(logging.ERROR)\n",
    "logging.getLogger(\"py4j\").setLevel(logging.ERROR)\n",
    "import json\n",
    "import pyspark\n",
    "import os\n",
    "import boto3\n",
    "boto3.setup_default_session(profile_name='dev')\n",
    "    \n",
    "# Pilot-Streaming\n",
    "import pilot.streaming\n",
    "sys.modules['pilot.streaming']"
   ]
  },
  {
   "cell_type": "code",
   "execution_count": null,
   "metadata": {},
   "outputs": [],
   "source": [
    "pilot_compute_description = json.load(open(\"aws_description.json\", \"r\"))\n",
    "pilot_compute_description[\"resource\"] =\"ec2+dask://awscloud.com\"\n",
    "pilot_compute_description[\"working_directory\"]=os.path.join(os.getcwd(), \"work\")\n",
    "pilot_compute_description[\"number_cores\"] = 1\n",
    "pilot_compute_description[\"cores_per_node\"] = 1\n",
    "pilot_compute_description[\"type\"] = \"dask\"\n",
    "dask_ec2_pilot = pilot.streaming.PilotComputeService.create_pilot(pilot_compute_description)\n",
    "dask_ec2_pilot.wait()"
   ]
  },
  {
   "cell_type": "code",
   "execution_count": null,
   "metadata": {},
   "outputs": [],
   "source": [
    "dask_client=dask_ec2_pilot.get_context()\n",
    "dask_client.gather(dask_client.map(lambda a: a*a, range(10)))"
   ]
  },
  {
   "cell_type": "code",
   "execution_count": null,
   "metadata": {},
   "outputs": [],
   "source": [
    "dask_client.scheduler_info()"
   ]
  },
  {
   "cell_type": "code",
   "execution_count": null,
   "metadata": {},
   "outputs": [],
   "source": [
    "dask_ec2_pilot.cancel()"
   ]
  }
 ],
 "metadata": {
  "kernelspec": {
   "display_name": "Python 3",
   "language": "python",
   "name": "python3"
  },
  "language_info": {
   "codemirror_mode": {
    "name": "ipython",
    "version": 3
   },
   "file_extension": ".py",
   "mimetype": "text/x-python",
   "name": "python",
   "nbconvert_exporter": "python",
   "pygments_lexer": "ipython3",
   "version": "3.7.6"
  },
  "toc": {
   "toc_cell": false,
   "toc_number_sections": true,
   "toc_threshold": 6.0,
   "toc_window_display": false
  }
 },
 "nbformat": 4,
 "nbformat_minor": 4
}
