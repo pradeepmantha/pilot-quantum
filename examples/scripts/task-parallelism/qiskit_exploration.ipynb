{
 "cells": [
  {
   "cell_type": "markdown",
   "id": "c1929b4e165b72da",
   "metadata": {
    "collapsed": false
   },
   "source": [
    "# Pilot-Quantum "
   ]
  },
  {
   "cell_type": "code",
   "execution_count": 43,
   "id": "initial_id",
   "metadata": {
    "ExecuteTime": {
     "end_time": "2023-08-29T15:12:24.682602Z",
     "start_time": "2023-08-29T15:12:24.672358Z"
    },
    "collapsed": false
   },
   "outputs": [],
   "source": [
    "import os, time, sys\n",
    "sys.path.insert(0, os.path.abspath('../../..'))\n",
    "import socket\n",
    "import getpass\n",
    "import datetime\n",
    "\n",
    "# Python Dask and Data stack\n",
    "import numpy as np\n",
    "import pandas as pd\n",
    "import distributed, dask\n",
    "import dask.dataframe as dd\n",
    "import dask.array as da\n",
    "import dask.bag as db\n",
    "\n",
    "# Pilot-Quantum\n",
    "import pilot.streaming\n",
    "\n",
    "import logging\n",
    "logging.basicConfig(level=logging.WARNING)\n",
    "\n",
    "# Qiskit\n",
    "from qiskit import QuantumCircuit, transpile, execute, Aer\n",
    "from qiskit_aer import AerSimulator # for GPU\n",
    "from qiskit.primitives import Estimator\n",
    "from qiskit_aer.primitives import Estimator as AirEstimator\n",
    "from qiskit_benchmark import run_graph, generate_data\n",
    "\n",
    "logging.getLogger('qiskit').setLevel(logging.INFO)\n",
    "logging.getLogger('qiskit.transpiler').setLevel(logging.WARN)\n",
    "logging.getLogger('stevedore.extension').setLevel(logging.INFO)"
   ]
  },
  {
   "cell_type": "markdown",
   "id": "b452f7beb8716f94",
   "metadata": {
    "collapsed": false
   },
   "source": [
    "## Start Pilot"
   ]
  },
  {
   "cell_type": "code",
   "execution_count": 2,
   "id": "830826b298b9b69a",
   "metadata": {
    "ExecuteTime": {
     "end_time": "2023-08-29T15:06:45.151423Z",
     "start_time": "2023-08-29T15:06:45.146776Z"
    },
    "collapsed": false
   },
   "outputs": [],
   "source": [
    "RESOURCE_URL_HPC = \"slurm://localhost\"\n",
    "WORKING_DIRECTORY = os.path.join(os.environ[\"PSCRATCH\"], \"work\")\n",
    "\n",
    "def start_pilot(number_cores):\n",
    "    pilot_compute_description_dask = {\n",
    "        #\"resource\": \"ssh://{}@localhost\".format(getpass.getuser()),\n",
    "        \"resource\": RESOURCE_URL_HPC,\n",
    "        #\"working_directory\": os.path.join(os.path.expanduser(\"~\"), \"work\"),\n",
    "        \"working_directory\": WORKING_DIRECTORY,\n",
    "        #\"number_of_nodes\": 1,\n",
    "        \"number_cores\": number_cores,\n",
    "        #\"cores_per_node\": number_cores,\n",
    "        \"queue\": \"normal\",\n",
    "        \"walltime\": 5,\n",
    "        \"type\": \"dask\",\n",
    "        \"project\": \"m4408\",\n",
    "        \"os_ssh_keyfile\": \"~/.ssh/nersc\",\n",
    "        \"scheduler_script_commands\": [\"#SBATCH --constraint=cpu\"]\n",
    "    }\n",
    "\n",
    "#     pilot_compute_description_dask = {\n",
    "#     \"resource\": RESOURCE_URL_HPC,\n",
    "#     \"working_directory\": WORKING_DIRECTORY,\n",
    "#     \"number_cores\": 1,\n",
    "#     \"queue\": \"normal\",\n",
    "#     \"walltime\": 5,\n",
    "#     \"type\": \"dask\",\n",
    "#     \"project\": \"m4408\",\n",
    "#     \"os_ssh_keyfile\": \"~/.ssh/nersc\",\n",
    "#     \"scheduler_script_commands\": [\"#SBATCH --constraint=cpu\"]\n",
    "# }\n",
    "\n",
    "\n",
    "    dask_pilot = pilot.streaming.PilotComputeService.create_pilot(pilot_compute_description_dask)\n",
    "    dask_pilot.wait()\n",
    "    dask_pilot.get_details()\n",
    "    dask_client  = distributed.Client(dask_pilot.get_details()['master_url'])\n",
    "    return dask_pilot, dask_client"
   ]
  },
  {
   "cell_type": "code",
   "execution_count": 3,
   "id": "abf2f3104eb46431",
   "metadata": {
    "ExecuteTime": {
     "end_time": "2023-08-29T15:06:57.678163Z",
     "start_time": "2023-08-29T15:06:45.625097Z"
    },
    "collapsed": false
   },
   "outputs": [
    {
     "name": "stderr",
     "output_type": "stream",
     "text": [
      "08/31/2023 02:32:42 AM - root - DEBUG - Run python Args: ['-m', 'pilot.plugins.dask.bootstrap_dask', ' -p ', '1']\n",
      "08/31/2023 02:32:42 AM - root - DEBUG - Command: python -m pilot.plugins.dask.bootstrap_dask  -p  1\n",
      "08/31/2023 02:32:42 AM - pilot-streaming - DEBUG - Pilot-Streaming SLURM: Parsing job description: {'executable': 'python', 'arguments': ['-m', 'pilot.plugins.dask.bootstrap_dask', ' -p ', '1'], 'working_directory': '/pscratch/sd/l/luckow/work/dask-5572a754-47e1-11ee-9c48-39d2c570ae27', 'output': 'dask_job_dask-5572a754-47e1-11ee-9c48-39d2c570ae27.stdout', 'error': 'dask_job_dask-5572a754-47e1-11ee-9c48-39d2c570ae27.stderr', 'number_of_nodes': 1, 'cores_per_node': 1, 'project': 'm4408', 'reservation': None, 'queue': 'normal', 'walltime': 5, 'pilot_compute_description': {'resource': 'slurm://localhost', 'working_directory': '/pscratch/sd/l/luckow/work', 'number_cores': 1, 'queue': 'normal', 'walltime': 5, 'type': 'dask', 'project': 'm4408', 'os_ssh_keyfile': '~/.ssh/nersc', 'scheduler_script_commands': ['#SBATCH --constraint=cpu']}}\n",
      "08/31/2023 02:32:42 AM - root - DEBUG - Queue: normal\n",
      "08/31/2023 02:32:42 AM - pilot-streaming - DEBUG - Submit pilot job to: slurm://localhost\n",
      "08/31/2023 02:32:42 AM - pilot-streaming - DEBUG - Type Job IDps-55744\n"
     ]
    },
    {
     "name": "stdout",
     "output_type": "stream",
     "text": [
      "Working Directory: /pscratch/sd/l/luckow/work\n",
      "dask-5572a754-47e1-11ee-9c48-39d2c570ae27/pscratch/sd/l/luckow/work\n",
      "/tmp/tmpryhze94u\n"
     ]
    },
    {
     "name": "stderr",
     "output_type": "stream",
     "text": [
      "***************************************************************************\n",
      "                          NOTICE TO USERS\n",
      "\n",
      "Lawrence Berkeley National Laboratory operates this computer system under \n",
      "contract to the U.S. Department of Energy.  This computer system is the \n",
      "property of the United States Government and is for authorized use only.\n",
      "Users (authorized or unauthorized) have no explicit or implicit \n",
      "expectation of privacy.\n",
      "\n",
      "Any or all uses of this system and all files on this system may be\n",
      "intercepted, monitored, recorded, copied, audited, inspected, and disclosed\n",
      "to authorized site, Department of Energy, and law enforcement personnel,\n",
      "as well as authorized officials of other agencies, both domestic and foreign.\n",
      "By using this system, the user consents to such interception, monitoring,\n",
      "recording, copying, auditing, inspection, and disclosure at the discretion\n",
      "of authorized site or Department of Energy personnel.\n",
      "\n",
      "Unauthorized or improper use of this system may result in administrative\n",
      "disciplinary action and civil and criminal penalties. By continuing to use\n",
      "this system you indicate your awareness of and consent to these terms and\n",
      "conditions of use. LOG OFF IMMEDIATELY if you do not agree to the conditions\n",
      "stated in this warning.\n",
      "\n",
      "*****************************************************************************\n",
      "\n",
      "Login connection to host x3113c0s15b0n0:\n",
      "\n"
     ]
    },
    {
     "name": "stdout",
     "output_type": "stream",
     "text": [
      "Submission of Job Command: ssh localhost sbatch  tmpryhze94u\n"
     ]
    }
   ],
   "source": [
    "dask_pilot, dask_client = start_pilot(1)\n",
    "dask_client.scheduler_info()\n",
    "dask_client.gather(dask_client.map(lambda a: a*a, range(10)))"
   ]
  },
  {
   "cell_type": "code",
   "execution_count": null,
   "id": "97e7693eb06bcd50",
   "metadata": {
    "ExecuteTime": {
     "end_time": "2023-08-29T14:53:14.977025Z",
     "start_time": "2023-08-29T14:53:14.946521Z"
    },
    "collapsed": false
   },
   "outputs": [],
   "source": [
    "dask_pilot.cancel()"
   ]
  },
  {
   "cell_type": "markdown",
   "id": "ba840b4eaede8298",
   "metadata": {
    "collapsed": false
   },
   "source": [
    "## Test different quantum workloads with Pilot"
   ]
  },
  {
   "cell_type": "code",
   "execution_count": 2,
   "id": "82a67e0b142a70b",
   "metadata": {
    "ExecuteTime": {
     "end_time": "2023-08-29T14:53:15.252644Z",
     "start_time": "2023-08-29T14:53:14.973122Z"
    },
    "collapsed": false
   },
   "outputs": [],
   "source": [
    "# run_graph(depth_of_recursion=1,\n",
    "#         num_qubits=2,\n",
    "#         n_entries=1,\n",
    "#         circuit_depth=1,\n",
    "#         size_of_observable=1,\n",
    "#         n_backends=1)"
   ]
  },
  {
   "cell_type": "code",
   "execution_count": 27,
   "id": "5b0118a1515f5b05",
   "metadata": {
    "ExecuteTime": {
     "end_time": "2023-08-29T14:53:15.257821Z",
     "start_time": "2023-08-29T14:53:15.252766Z"
    },
    "collapsed": false
   },
   "outputs": [],
   "source": [
    "circuits, observables =  generate_data(\n",
    "            depth_of_recursion=1, # number of circuits and observables\n",
    "            num_qubits=20,\n",
    "            n_entries=1, # number of circuits and observables => same as depth_of_recursion\n",
    "            circuit_depth=5,\n",
    "            size_of_observable=1\n",
    "        )\n",
    "# for c in circuits: c.save_statevector() "
   ]
  },
  {
   "cell_type": "code",
   "execution_count": 28,
   "id": "2319819cd7b4c1ae",
   "metadata": {
    "ExecuteTime": {
     "end_time": "2023-08-29T14:31:52.063876Z",
     "start_time": "2023-08-29T14:31:52.059648Z"
    },
    "collapsed": false
   },
   "outputs": [
    {
     "data": {
      "text/plain": [
       "PauliList(['-XYXXYZYZZIYXXZXXZZXZ'])"
      ]
     },
     "execution_count": 28,
     "metadata": {},
     "output_type": "execute_result"
    }
   ],
   "source": [
    "\n",
    "observables[0]"
   ]
  },
  {
   "cell_type": "markdown",
   "id": "8aef899a",
   "metadata": {},
   "source": [
    "Run with \"vanilla\" Estimator"
   ]
  },
  {
   "cell_type": "code",
   "execution_count": 40,
   "id": "332c32ebff1909f5",
   "metadata": {
    "ExecuteTime": {
     "end_time": "2023-08-29T14:31:52.535286Z",
     "start_time": "2023-08-29T14:31:52.528896Z"
    },
    "collapsed": false
   },
   "outputs": [
    {
     "data": {
      "text/plain": [
       "EstimatorResult(values=array([0.]), metadata=[{}])"
      ]
     },
     "execution_count": 40,
     "metadata": {},
     "output_type": "execute_result"
    }
   ],
   "source": [
    "Estimator().run(circuits, observables).result()"
   ]
  },
  {
   "cell_type": "markdown",
   "id": "cf77dd5f",
   "metadata": {},
   "source": [
    "Run with Aer Estimator (without GPU)"
   ]
  },
  {
   "cell_type": "code",
   "execution_count": 44,
   "id": "28b009dc",
   "metadata": {},
   "outputs": [
    {
     "name": "stderr",
     "output_type": "stream",
     "text": [
      "08/31/2023 03:38:48 AM - qiskit.compiler.transpiler - INFO - Total Transpile Time - 30.47872 (ms)\n",
      "08/31/2023 03:38:48 AM - qiskit.compiler.transpiler - INFO - Total Transpile Time - 5.08595 (ms)\n"
     ]
    },
    {
     "data": {
      "text/plain": [
       "EstimatorResult(values=array([-0.00390625]), metadata=[{'shots': 1024, 'variance': 0.9999847412109375, 'simulator_metadata': [{'parallel_state_update': 256, 'input_qubit_map': [[19, 19], [18, 18], [17, 17], [16, 16], [15, 15], [14, 14], [13, 13], [0, 0], [1, 1], [2, 2], [3, 3], [4, 4], [5, 5], [6, 6], [7, 7], [8, 8], [9, 9], [10, 10], [11, 11], [12, 12]], 'method': 'statevector', 'device': 'CPU', 'num_qubits': 20, 'sample_measure_time': 0.186789348, 'cuStateVec_enable': False, 'active_input_qubits': [0, 1, 2, 3, 4, 5, 6, 7, 8, 9, 10, 11, 12, 13, 14, 15, 16, 17, 18, 19], 'num_clbits': 19, 'remapped_qubits': False, 'parallel_shots': 1, 'measure_sampling': True, 'batched_shots_optimization': False, 'noise': 'ideal', 'fusion': {'applied': True, 'time_taken': 0.001409574, 'cost_factor': 1.8, 'parallelization': 1, 'max_fused_qubits': 5, 'method': 'unitary', 'threshold': 14, 'enabled': True}}]}])"
      ]
     },
     "execution_count": 44,
     "metadata": {},
     "output_type": "execute_result"
    }
   ],
   "source": [
    "options = {\"method\": \"statevector\", \"device\":'CPU'}\n",
    "estimator = AirEstimator(backend_options=options)\n",
    "estimator.run(circuits, observables).result()\n"
   ]
  },
  {
   "cell_type": "markdown",
   "id": "ca047280",
   "metadata": {},
   "source": [
    "Run with GPU enabled Estimator"
   ]
  },
  {
   "cell_type": "code",
   "execution_count": 45,
   "id": "8aa5d23c",
   "metadata": {},
   "outputs": [
    {
     "name": "stderr",
     "output_type": "stream",
     "text": [
      "08/31/2023 03:38:59 AM - qiskit.compiler.transpiler - INFO - Total Transpile Time - 29.68431 (ms)\n",
      "08/31/2023 03:38:59 AM - qiskit.compiler.transpiler - INFO - Total Transpile Time - 5.03278 (ms)\n"
     ]
    },
    {
     "data": {
      "text/plain": [
       "EstimatorResult(values=array([-0.00390625]), metadata=[{'shots': 1024, 'variance': 0.9999847412109375, 'simulator_metadata': [{'parallel_state_update': 1, 'input_qubit_map': [[19, 19], [18, 18], [17, 17], [16, 16], [15, 15], [14, 14], [13, 13], [0, 0], [1, 1], [2, 2], [3, 3], [4, 4], [5, 5], [6, 6], [7, 7], [8, 8], [9, 9], [10, 10], [11, 11], [12, 12]], 'method': 'statevector', 'device': 'GPU', 'num_qubits': 20, 'sample_measure_time': 0.000485067, 'cuStateVec_enable': True, 'active_input_qubits': [0, 1, 2, 3, 4, 5, 6, 7, 8, 9, 10, 11, 12, 13, 14, 15, 16, 17, 18, 19], 'num_clbits': 19, 'remapped_qubits': False, 'parallel_shots': 1, 'measure_sampling': True, 'batched_shots_optimization': False, 'noise': 'ideal', 'fusion': {'applied': True, 'time_taken': 0.00140222, 'cost_factor': 1.8, 'parallelization': 1, 'max_fused_qubits': 5, 'method': 'unitary', 'threshold': 14, 'enabled': True}}]}])"
      ]
     },
     "execution_count": 45,
     "metadata": {},
     "output_type": "execute_result"
    }
   ],
   "source": [
    "#options = {\"shots\": 1024}\n",
    "options = {\"method\": \"statevector\", \"device\":'GPU', \"cuStateVec_enable\": True, \"shots\":None}\n",
    "# options = {\"backend\": simulator}\n",
    "estimator = AirEstimator(backend_options=options)\n",
    "estimator.run(circuits, observables).result()\n",
    "\n",
    "# simulator = Aer.get_backend('aer_simulator_statevector_gpu', shots=None)\n",
    "# simulator = AerSimulator(method='statevector', device='GPU', cuStateVec_enable=True)\n",
    "# result = execute(circuits, simulator).result()\n",
    "# print(result)\n",
    "# statevector = result.get_statevector()\n",
    "\n",
    "#circ = transpile(circuits)\n",
    "# Execute the circuit and get the statevector\n",
    "#result = execute(circuits, simulator, shots=0).result()\n",
    "#statevector = result.get_statevector()\n",
    "\n",
    "# Create an Estimator object\n",
    "# estimator = AirEstimator()\n",
    "\n",
    "# Estimate the expectation value of the observable\n",
    "# expectation_value = "
   ]
  },
  {
   "cell_type": "markdown",
   "id": "2e809e81",
   "metadata": {},
   "source": [
    "### Dask Implementation"
   ]
  },
  {
   "cell_type": "code",
   "execution_count": null,
   "id": "9441f1dd74f8e862",
   "metadata": {
    "ExecuteTime": {
     "end_time": "2023-08-29T14:31:53.091189Z",
     "start_time": "2023-08-29T14:31:53.084964Z"
    },
    "collapsed": false
   },
   "outputs": [],
   "source": [
    "# create array of tuples with circuits and collections\n",
    "circuits_observables =zip(circuits, observables)\n",
    "circuit_bag = db.from_sequence(circuits_observables) \n",
    "circuit_bag.map(lambda circ_obs: Estimator().run(circ_obs[0], circ_obs[1]).result()).compute()\n",
    "dask_pilot.cancel()"
   ]
  },
  {
   "cell_type": "markdown",
   "id": "d98fdfe8963eb14c",
   "metadata": {
    "collapsed": false
   },
   "source": [
    "## Micro Benchmark "
   ]
  },
  {
   "cell_type": "code",
   "execution_count": 13,
   "id": "725b5ffe261ffbe9",
   "metadata": {
    "ExecuteTime": {
     "end_time": "2023-08-29T15:23:09.073369Z",
     "start_time": "2023-08-29T15:22:56.398636Z"
    },
    "collapsed": false
   },
   "outputs": [
    {
     "name": "stderr",
     "output_type": "stream",
     "text": [
      "08/30/2023 02:00:55 PM - root - DEBUG - Run python Args: ['-m', 'pilot.plugins.dask.bootstrap_dask', ' -p ', '1']\n",
      "08/30/2023 02:00:55 PM - root - DEBUG - Command: python -m pilot.plugins.dask.bootstrap_dask  -p  1\n",
      "08/30/2023 02:00:55 PM - pilot-streaming - DEBUG - Pilot-Streaming SLURM: Parsing job description: {'executable': 'python', 'arguments': ['-m', 'pilot.plugins.dask.bootstrap_dask', ' -p ', '1'], 'working_directory': '/pscratch/sd/l/luckow/work/dask-5008a21e-4778-11ee-9e64-93c1fd62f0b9', 'output': 'dask_job_dask-5008a21e-4778-11ee-9e64-93c1fd62f0b9.stdout', 'error': 'dask_job_dask-5008a21e-4778-11ee-9e64-93c1fd62f0b9.stderr', 'number_of_nodes': 1, 'cores_per_node': 1, 'project': 'm4408', 'reservation': None, 'queue': 'normal', 'walltime': 5, 'pilot_compute_description': {'resource': 'slurm://localhost', 'working_directory': '/pscratch/sd/l/luckow/work', 'number_cores': 1, 'queue': 'normal', 'walltime': 5, 'type': 'dask', 'project': 'm4408', 'os_ssh_keyfile': '~/.ssh/nersc', 'scheduler_script_commands': ['#SBATCH --constraint=cpu']}}\n",
      "08/30/2023 02:00:55 PM - root - DEBUG - Queue: normal\n",
      "08/30/2023 02:00:55 PM - pilot-streaming - DEBUG - Submit pilot job to: slurm://localhost\n",
      "08/30/2023 02:00:55 PM - pilot-streaming - DEBUG - Type Job IDps-50091\n"
     ]
    },
    {
     "name": "stdout",
     "output_type": "stream",
     "text": [
      "Working Directory: /pscratch/sd/l/luckow/work\n",
      "dask-5008a21e-4778-11ee-9e64-93c1fd62f0b9/pscratch/sd/l/luckow/work\n",
      "/tmp/tmpugr1sk9v\n"
     ]
    },
    {
     "name": "stderr",
     "output_type": "stream",
     "text": [
      "***************************************************************************\n",
      "                          NOTICE TO USERS\n",
      "\n",
      "Lawrence Berkeley National Laboratory operates this computer system under \n",
      "contract to the U.S. Department of Energy.  This computer system is the \n",
      "property of the United States Government and is for authorized use only.\n",
      "Users (authorized or unauthorized) have no explicit or implicit \n",
      "expectation of privacy.\n",
      "\n",
      "Any or all uses of this system and all files on this system may be\n",
      "intercepted, monitored, recorded, copied, audited, inspected, and disclosed\n",
      "to authorized site, Department of Energy, and law enforcement personnel,\n",
      "as well as authorized officials of other agencies, both domestic and foreign.\n",
      "By using this system, the user consents to such interception, monitoring,\n",
      "recording, copying, auditing, inspection, and disclosure at the discretion\n",
      "of authorized site or Department of Energy personnel.\n",
      "\n",
      "Unauthorized or improper use of this system may result in administrative\n",
      "disciplinary action and civil and criminal penalties. By continuing to use\n",
      "this system you indicate your awareness of and consent to these terms and\n",
      "conditions of use. LOG OFF IMMEDIATELY if you do not agree to the conditions\n",
      "stated in this warning.\n",
      "\n",
      "*****************************************************************************\n",
      "\n",
      "Login connection to host x3114c0s15b0n0:\n",
      "\n"
     ]
    },
    {
     "name": "stdout",
     "output_type": "stream",
     "text": [
      "Submission of Job Command: ssh localhost sbatch  tmpugr1sk9v\n"
     ]
    },
    {
     "name": "stderr",
     "output_type": "stream",
     "text": [
      "2023-08-30 14:01:04,395 - distributed.client - ERROR - Failed to reconnect to scheduler after 30.00 seconds, closing client\n"
     ]
    },
    {
     "name": "stdout",
     "output_type": "stream",
     "text": [
      "Cleanup: ssh localhost rm tmpugr1sk9v\n"
     ]
    },
    {
     "name": "stderr",
     "output_type": "stream",
     "text": [
      "***************************************************************************\n",
      "                          NOTICE TO USERS\n",
      "\n",
      "Lawrence Berkeley National Laboratory operates this computer system under \n",
      "contract to the U.S. Department of Energy.  This computer system is the \n",
      "property of the United States Government and is for authorized use only.\n",
      "Users (authorized or unauthorized) have no explicit or implicit \n",
      "expectation of privacy.\n",
      "\n",
      "Any or all uses of this system and all files on this system may be\n",
      "intercepted, monitored, recorded, copied, audited, inspected, and disclosed\n",
      "to authorized site, Department of Energy, and law enforcement personnel,\n",
      "as well as authorized officials of other agencies, both domestic and foreign.\n",
      "By using this system, the user consents to such interception, monitoring,\n",
      "recording, copying, auditing, inspection, and disclosure at the discretion\n",
      "of authorized site or Department of Energy personnel.\n",
      "\n",
      "Unauthorized or improper use of this system may result in administrative\n",
      "disciplinary action and civil and criminal penalties. By continuing to use\n",
      "this system you indicate your awareness of and consent to these terms and\n",
      "conditions of use. LOG OFF IMMEDIATELY if you do not agree to the conditions\n",
      "stated in this warning.\n",
      "\n",
      "*****************************************************************************\n",
      "\n",
      "Login connection to host x3114c0s15b0n0:\n",
      "\n",
      "08/30/2023 02:01:07 PM - pilot-streaming - DEBUG - Found SLURM Job ID: 14684560\n",
      "08/30/2023 02:01:08 PM - root - DEBUG - Query State: squeue -j 14684560 Output:              JOBID PARTITION     NAME     USER ST       TIME  NODES NODELIST(REASON)\n",
      "          14684560 regular_m ps-50091   luckow  R       0:04      1 nid004296\n",
      "\n",
      "08/30/2023 02:01:08 PM - root - DEBUG - Results of scheduler startup file check: False\n",
      "08/30/2023 02:01:08 PM - root - DEBUG - Scheduler not started\n",
      "08/30/2023 02:01:08 PM - root - DEBUG - Query State: squeue -j 14684560 Output:              JOBID PARTITION     NAME     USER ST       TIME  NODES NODELIST(REASON)\n",
      "          14684560 regular_m ps-50091   luckow  R       0:04      1 nid004296\n",
      "\n",
      "08/30/2023 02:01:08 PM - root - DEBUG - **** Job: 14684560 State: Running\n",
      "08/30/2023 02:01:08 PM - root - DEBUG - Looking for Dask startup state at: /pscratch/sd/l/luckow/work/dask-5008a21e-4778-11ee-9e64-93c1fd62f0b9\n",
      "08/30/2023 02:01:08 PM - root - DEBUG - Results of scheduler startup file check: False\n"
     ]
    },
    {
     "name": "stdout",
     "output_type": "stream",
     "text": [
      "**** Job: 14684560 State: Running\n"
     ]
    },
    {
     "name": "stderr",
     "output_type": "stream",
     "text": [
      "08/30/2023 02:01:15 PM - root - DEBUG - Query State: squeue -j 14684560 Output:              JOBID PARTITION     NAME     USER ST       TIME  NODES NODELIST(REASON)\n",
      "          14684560 regular_m ps-50091   luckow  R       0:11      1 nid004296\n",
      "\n",
      "08/30/2023 02:01:15 PM - root - DEBUG - **** Job: 14684560 State: Running\n",
      "08/30/2023 02:01:15 PM - root - DEBUG - Looking for Dask startup state at: /pscratch/sd/l/luckow/work/dask-5008a21e-4778-11ee-9e64-93c1fd62f0b9\n",
      "08/30/2023 02:01:15 PM - root - DEBUG - Results of scheduler startup file check: False\n",
      "08/30/2023 02:01:22 PM - root - DEBUG - Query State: squeue -j 14684560 Output:              JOBID PARTITION     NAME     USER ST       TIME  NODES NODELIST(REASON)\n",
      "          14684560 regular_m ps-50091   luckow  R       0:18      1 nid004296\n",
      "\n",
      "08/30/2023 02:01:22 PM - root - DEBUG - **** Job: 14684560 State: Running\n",
      "08/30/2023 02:01:22 PM - root - DEBUG - Looking for Dask startup state at: /pscratch/sd/l/luckow/work/dask-5008a21e-4778-11ee-9e64-93c1fd62f0b9\n",
      "08/30/2023 02:01:22 PM - root - DEBUG - Results of scheduler startup file check: False\n",
      "08/30/2023 02:01:29 PM - root - DEBUG - Query State: squeue -j 14684560 Output:              JOBID PARTITION     NAME     USER ST       TIME  NODES NODELIST(REASON)\n",
      "          14684560 regular_m ps-50091   luckow  R       0:25      1 nid004296\n",
      "\n",
      "08/30/2023 02:01:29 PM - root - DEBUG - **** Job: 14684560 State: Running\n",
      "08/30/2023 02:01:29 PM - root - DEBUG - Looking for Dask startup state at: /pscratch/sd/l/luckow/work/dask-5008a21e-4778-11ee-9e64-93c1fd62f0b9\n",
      "08/30/2023 02:01:29 PM - root - DEBUG - Results of scheduler startup file check: True\n",
      "08/30/2023 02:01:29 PM - root - DEBUG - Results of scheduler startup file check: True\n",
      "08/30/2023 02:01:29 PM - asyncio - DEBUG - Using selector: EpollSelector\n"
     ]
    },
    {
     "name": "stdout",
     "output_type": "stream",
     "text": [
      "init distributed client\n",
      "Connect to Dask: tcp://nid004296:8786\n",
      "Dask Client Connect Attempt 0 failed\n"
     ]
    },
    {
     "name": "stderr",
     "output_type": "stream",
     "text": [
      "08/30/2023 02:02:04 PM - root - DEBUG - Results of scheduler startup file check: True\n",
      "08/30/2023 02:02:04 PM - asyncio - DEBUG - Using selector: EpollSelector\n"
     ]
    },
    {
     "name": "stdout",
     "output_type": "stream",
     "text": [
      "init distributed client\n",
      "Connect to Dask: tcp://nid004296:8786\n"
     ]
    },
    {
     "name": "stderr",
     "output_type": "stream",
     "text": [
      "08/30/2023 02:02:36 PM - root - DEBUG - Results of scheduler startup file check: True\n",
      "08/30/2023 02:02:36 PM - root - DEBUG - Results of scheduler startup file check: True\n",
      "08/30/2023 02:02:36 PM - asyncio - DEBUG - Using selector: EpollSelector\n"
     ]
    },
    {
     "name": "stdout",
     "output_type": "stream",
     "text": [
      "{'type': 'Scheduler', 'id': 'Scheduler-5a5896b1-472d-40fa-8939-ecab712b3d59', 'address': 'tcp://128.55.71.47:8786', 'services': {'dashboard': 8787}, 'started': 1693429352.0531318, 'workers': {}}\n"
     ]
    },
    {
     "name": "stderr",
     "output_type": "stream",
     "text": [
      "08/30/2023 02:03:03 PM - pilot-streaming - DEBUG - Cancel SLURM job\n",
      "08/30/2023 02:03:06 PM - root - DEBUG - Cancel SLURM job: scancel 14684560 Output: \n",
      "08/30/2023 02:03:06 PM - root - DEBUG - No job with ID 14684560 found\n",
      "08/30/2023 02:03:06 PM - root - DEBUG - Results of scheduler startup file check: True\n",
      "08/30/2023 02:03:06 PM - asyncio - DEBUG - Using selector: EpollSelector\n"
     ]
    },
    {
     "name": "stdout",
     "output_type": "stream",
     "text": [
      "Connect to Dask: tcp://nid004296:8786\n"
     ]
    },
    {
     "name": "stderr",
     "output_type": "stream",
     "text": [
      "2023-08-30 14:03:36,248 - distributed.client - ERROR - Failed to reconnect to scheduler after 30.00 seconds, closing client\n",
      "2023-08-30 14:03:36,277 - distributed.client - ERROR - Failed to reconnect to scheduler after 30.00 seconds, closing client\n"
     ]
    },
    {
     "ename": "type",
     "evalue": "[Errno 2] No such file or directory: 'results/pilot-qunatum-summary-20230830-140055.csv'",
     "output_type": "error",
     "traceback": [
      "\u001b[0;31m---------------------------------------------------------------------------\u001b[0m",
      "\u001b[0;31mFileNotFoundError\u001b[0m                         Traceback (most recent call last)",
      "Cell \u001b[0;32mIn[13], line 28\u001b[0m\n\u001b[1;32m     26\u001b[0m result_string \u001b[39m=\u001b[39m \u001b[39m\"\u001b[39m\u001b[39mNumber Cores: \u001b[39m\u001b[39m{}\u001b[39;00m\u001b[39m Number Qubits: \u001b[39m\u001b[39m{}\u001b[39;00m\u001b[39m Number Circuits \u001b[39m\u001b[39m{}\u001b[39;00m\u001b[39m Pilot start: \u001b[39m\u001b[39m{}\u001b[39;00m\u001b[39m, Total: \u001b[39m\u001b[39m{}\u001b[39;00m\u001b[39m, Compute: \u001b[39m\u001b[39m{}\u001b[39;00m\u001b[39ms\u001b[39m\u001b[39m\"\u001b[39m\u001b[39m.\u001b[39mformat(number_cores, num_qubits, n_entries, end_pilot\u001b[39m-\u001b[39mstart, end_stop_pilot\u001b[39m-\u001b[39mstart, end_compute\u001b[39m-\u001b[39mend_pilot)\n\u001b[1;32m     27\u001b[0m results\u001b[39m.\u001b[39mappend(result_string)\n\u001b[0;32m---> 28\u001b[0m \u001b[39mwith\u001b[39;00m \u001b[39mopen\u001b[39;49m(RESULT_FILE, \u001b[39m\"\u001b[39;49m\u001b[39mw\u001b[39;49m\u001b[39m\"\u001b[39;49m) \u001b[39mas\u001b[39;00m f:\n\u001b[1;32m     29\u001b[0m     f\u001b[39m.\u001b[39mwrite(results)\n",
      "File \u001b[0;32m~/.conda/envs/pilot-quantum/lib/python3.10/site-packages/IPython/core/interactiveshell.py:284\u001b[0m, in \u001b[0;36m_modified_open\u001b[0;34m(file, *args, **kwargs)\u001b[0m\n\u001b[1;32m    277\u001b[0m \u001b[39mif\u001b[39;00m file \u001b[39min\u001b[39;00m {\u001b[39m0\u001b[39m, \u001b[39m1\u001b[39m, \u001b[39m2\u001b[39m}:\n\u001b[1;32m    278\u001b[0m     \u001b[39mraise\u001b[39;00m \u001b[39mValueError\u001b[39;00m(\n\u001b[1;32m    279\u001b[0m         \u001b[39mf\u001b[39m\u001b[39m\"\u001b[39m\u001b[39mIPython won\u001b[39m\u001b[39m'\u001b[39m\u001b[39mt let you open fd=\u001b[39m\u001b[39m{\u001b[39;00mfile\u001b[39m}\u001b[39;00m\u001b[39m by default \u001b[39m\u001b[39m\"\u001b[39m\n\u001b[1;32m    280\u001b[0m         \u001b[39m\"\u001b[39m\u001b[39mas it is likely to crash IPython. If you know what you are doing, \u001b[39m\u001b[39m\"\u001b[39m\n\u001b[1;32m    281\u001b[0m         \u001b[39m\"\u001b[39m\u001b[39myou can use builtins\u001b[39m\u001b[39m'\u001b[39m\u001b[39m open.\u001b[39m\u001b[39m\"\u001b[39m\n\u001b[1;32m    282\u001b[0m     )\n\u001b[0;32m--> 284\u001b[0m \u001b[39mreturn\u001b[39;00m io_open(file, \u001b[39m*\u001b[39;49margs, \u001b[39m*\u001b[39;49m\u001b[39m*\u001b[39;49mkwargs)\n",
      "\u001b[0;31mFileNotFoundError\u001b[0m: [Errno 2] No such file or directory: 'results/pilot-qunatum-summary-20230830-140055.csv'"
     ]
    }
   ],
   "source": [
    "# create a benchmark loop\n",
    "num_qubits = 2\n",
    "n_entries = 1024\n",
    "results = []\n",
    "run_timestamp=datetime.datetime.now()\n",
    "RESULT_FILE= \"pilot-quantum-summary-\" + run_timestamp.strftime(\"%Y%m%d-%H%M%S\") + \".csv\"\n",
    "       \n",
    "for number_cores in [1]:\n",
    "    start = time.time()\n",
    "    dask_pilot, dask_client = start_pilot(number_cores)\n",
    "    circuits, observables =  generate_data(\n",
    "            depth_of_recursion=1, # number of circuits and observables\n",
    "            num_qubits=num_qubits,\n",
    "            n_entries=n_entries, # number of circuits and observables => same as depth_of_recursion\n",
    "            circuit_depth=1,\n",
    "            size_of_observable=1\n",
    "    ) \n",
    "    end_pilot = time.time()\n",
    "    circuits_observables =zip(circuits, observables)\n",
    "    circuit_bag = db.from_sequence(circuits_observables)\n",
    "    circuit_bag.map(lambda circ_obs: Estimator().run(circ_obs[0], circ_obs[1]).result()).compute()\n",
    "    end_compute = time.time()\n",
    "    dask_pilot.cancel()\n",
    "    end_stop_pilot = time.time()\n",
    "    # write data to file\n",
    "    result_string = \"Number Cores: {} Number Qubits: {} Number Circuits {} Pilot start: {}, Total: {}, Compute: {}s\".format(number_cores, num_qubits, n_entries, end_pilot-start, end_stop_pilot-start, end_compute-end_pilot)\n",
    "    results.append(result_string)\n",
    "    with open(RESULT_FILE, \"w\") as f:\n",
    "        f.write(results)\n",
    "    time.sleep(60)"
   ]
  },
  {
   "cell_type": "code",
   "execution_count": 14,
   "id": "b5946754436865cd",
   "metadata": {
    "collapsed": false
   },
   "outputs": [
    {
     "name": "stdout",
     "output_type": "stream",
     "text": [
      "['Number Cores: 1 Number Qubits: 2 Number Circuits 1024 Pilot start: 101.41813445091248, Total: 130.2019236087799, Compute: 26.310489177703857s']\n"
     ]
    }
   ],
   "source": [
    "print(results)"
   ]
  },
  {
   "cell_type": "code",
   "execution_count": null,
   "id": "6fad1694",
   "metadata": {},
   "outputs": [],
   "source": []
  }
 ],
 "metadata": {
  "kernelspec": {
   "display_name": "Python 3 (ipykernel)",
   "language": "python",
   "name": "python3"
  },
  "language_info": {
   "codemirror_mode": {
    "name": "ipython",
    "version": 3
   },
   "file_extension": ".py",
   "mimetype": "text/x-python",
   "name": "python",
   "nbconvert_exporter": "python",
   "pygments_lexer": "ipython3",
   "version": "3.10.12"
  }
 },
 "nbformat": 4,
 "nbformat_minor": 5
}
